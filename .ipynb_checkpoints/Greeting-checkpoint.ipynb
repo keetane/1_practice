{
 "cells": [
  {
   "cell_type": "code",
   "execution_count": 1,
   "metadata": {},
   "outputs": [
    {
     "name": "stdin",
     "output_type": "stream",
     "text": [
      "What's Up? \n",
      " Great > 1 \n",
      " not bad > 2 \n",
      " terrible... > 3 \n",
      " none of your business..! > other keys \n",
      " your answer >  3\n"
     ]
    },
    {
     "name": "stdout",
     "output_type": "stream",
     "text": [
      "have a mercy\n"
     ]
    }
   ],
   "source": [
    "Keyword = input(\"What's Up? \\n Great > 1 \\n not bad > 2 \\n terrible... > 3 \\n none of your business..! > other keys \\n your answer > \")\n",
    "\n",
    "if Keyword == \"1\":\n",
    "    result = 'Do you have a good news today?'\n",
    "elif Keyword == \"2\":\n",
    "    result = \"nice\"\n",
    "elif Keyword == \"3\":\n",
    "    result = \"have a mercy\"\n",
    "else : result = \"Take it easy\"\n",
    "\n",
    "print(result)"
   ]
  },
  {
   "cell_type": "code",
   "execution_count": 3,
   "metadata": {},
   "outputs": [
    {
     "name": "stdout",
     "output_type": "stream",
     "text": [
      "[NbConvertApp] Converting notebook Greeting.ipynb to python\n",
      "[NbConvertApp] Writing 464 bytes to Greeting.py\n"
     ]
    }
   ],
   "source": [
    "!jupyter nbconvert --to python Greeting.ipynb"
   ]
  },
  {
   "cell_type": "code",
   "execution_count": null,
   "metadata": {},
   "outputs": [],
   "source": []
  }
 ],
 "metadata": {
  "kernelspec": {
   "display_name": "Python 3",
   "language": "python",
   "name": "python3"
  },
  "language_info": {
   "codemirror_mode": {
    "name": "ipython",
    "version": 3
   },
   "file_extension": ".py",
   "mimetype": "text/x-python",
   "name": "python",
   "nbconvert_exporter": "python",
   "pygments_lexer": "ipython3",
   "version": "3.7.6"
  }
 },
 "nbformat": 4,
 "nbformat_minor": 4
}
