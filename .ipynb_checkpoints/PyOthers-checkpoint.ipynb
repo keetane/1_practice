{
 "cells": [
  {
   "cell_type": "code",
   "execution_count": 1,
   "metadata": {},
   "outputs": [],
   "source": [
    "def print_list(*args):\n",
    "    \n",
    "    for elem in args:\n",
    "        print(elem)"
   ]
  },
  {
   "cell_type": "code",
   "execution_count": 2,
   "metadata": {},
   "outputs": [
    {
     "name": "stdout",
     "output_type": "stream",
     "text": [
      "java\n",
      "python\n",
      "c++\n"
     ]
    }
   ],
   "source": [
    "print_list('java', 'python', 'c++')"
   ]
  },
  {
   "cell_type": "markdown",
   "metadata": {},
   "source": [
    "### 引数に *args を指定すると，関数をcallするときに好きなだけ引数を入れることができます．どんなデータタイプでもOKです．\n",
    "\n",
    "### 関数の中では args にタプルで保存されているので，そこにアクセスすることで引数を取り出せます．\n",
    "\n",
    "### でも，これだとfor文で回すくらいのことしかできないです．そこで，次に紹介する **kwargs という *args のDictionary版を使うことが多いです．"
   ]
  },
  {
   "cell_type": "code",
   "execution_count": 3,
   "metadata": {},
   "outputs": [],
   "source": [
    "def print_dict(**kwargs):\n",
    "    print(kwargs)"
   ]
  },
  {
   "cell_type": "code",
   "execution_count": 5,
   "metadata": {},
   "outputs": [
    {
     "name": "stdout",
     "output_type": "stream",
     "text": [
      "{'key': 'value'}\n"
     ]
    }
   ],
   "source": [
    "print_dict(key='value')"
   ]
  },
  {
   "cell_type": "code",
   "execution_count": 6,
   "metadata": {},
   "outputs": [],
   "source": [
    "def print_dict(**kwargs):\n",
    "    \n",
    "    param1 = str(kwargs.get('param1'))\n",
    "    param2 = str(kwargs.get('param2', 'default_value'))\n",
    "    param3 = str(kwargs.get('param3'))\n",
    "    print('param1 is {}'.format(param1))\n",
    "    print('param2 is {}'.format(param2))\n",
    "    print('param3 is {}'.format(param3))\n"
   ]
  },
  {
   "cell_type": "code",
   "execution_count": 7,
   "metadata": {},
   "outputs": [
    {
     "name": "stdout",
     "output_type": "stream",
     "text": [
      "param1 is param1_value\n",
      "param2 is default_value\n",
      "param3 is None\n"
     ]
    }
   ],
   "source": [
    "print_dict(param1='param1_value')"
   ]
  },
  {
   "cell_type": "markdown",
   "metadata": {},
   "source": [
    "### **kwargs「keyword arguments 」の略で，引数がタプルではなくてdictionaryになります．argsがタプル，kwargsがkeywordつきのdictionaryと言ったイメージですね．関数を呼ぶときに function(param1=value1, param2=value2) という具合でkeywordとvalueを指定します．\n",
    "\n",
    "### kwargs.get(key) でそのkeyのvalueを取り出すことができます．もちろんkwargsはdictionaryなので kwargs[key] でvalueを取ってこれますが，そのkeyが引数として渡されていない可能性もあり，その場合エラーになってしまうので .get() を使います．もしそのkeyがない場合はNoneが返されエラーにはなりません． .get() にもう一つ引数を渡すことでデフォルトの値を指定できます．引数が多い場合はこのようにして引数を管理すると綺麗になります．"
   ]
  },
  {
   "cell_type": "markdown",
   "metadata": {},
   "source": [
    "### ちなみにargsとかkwargsの名前は実はなんでもOK．ただ，慣習的にリストには args ，dictonaryに kwargs を使うし，他の名前を使うことはほぼありません．"
   ]
  },
  {
   "cell_type": "code",
   "execution_count": 8,
   "metadata": {},
   "outputs": [],
   "source": [
    "def print_dict(**hoge):\n",
    "    print(hoge)"
   ]
  },
  {
   "cell_type": "code",
   "execution_count": 9,
   "metadata": {},
   "outputs": [
    {
     "name": "stdout",
     "output_type": "stream",
     "text": [
      "{'key': 'value'}\n"
     ]
    }
   ],
   "source": [
    "print_dict(key='value')"
   ]
  },
  {
   "cell_type": "code",
   "execution_count": null,
   "metadata": {},
   "outputs": [],
   "source": []
  }
 ],
 "metadata": {
  "kernelspec": {
   "display_name": "Python 3",
   "language": "python",
   "name": "python3"
  },
  "language_info": {
   "codemirror_mode": {
    "name": "ipython",
    "version": 3
   },
   "file_extension": ".py",
   "mimetype": "text/x-python",
   "name": "python",
   "nbconvert_exporter": "python",
   "pygments_lexer": "ipython3",
   "version": "3.7.6"
  }
 },
 "nbformat": 4,
 "nbformat_minor": 4
}
