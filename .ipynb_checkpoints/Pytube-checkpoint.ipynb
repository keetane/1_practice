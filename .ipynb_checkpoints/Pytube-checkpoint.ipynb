{
 "cells": [
  {
   "cell_type": "code",
   "execution_count": 116,
   "metadata": {},
   "outputs": [],
   "source": [
    "from pytube import YouTube\n",
    "import os\n",
    "import glob"
   ]
  },
  {
   "cell_type": "code",
   "execution_count": 122,
   "metadata": {},
   "outputs": [
    {
     "name": "stdin",
     "output_type": "stream",
     "text": [
      "Enter the YouTube URL :  https://www.youtube.com/watch?v=NZC60Ycz3Io\n"
     ]
    },
    {
     "name": "stdout",
     "output_type": "stream",
     "text": [
      "now downloading...\n"
     ]
    }
   ],
   "source": [
    "url = input(\"Enter the YouTube URL : \")\n",
    "print(\"now downloading...\")"
   ]
  },
  {
   "cell_type": "code",
   "execution_count": 123,
   "metadata": {},
   "outputs": [
    {
     "data": {
      "text/plain": [
       "'/Users/keetane/Downloads/YouTube/music/H ZETTRIOみんなのチカラ&ぼくをみていた [MUSIC VIDEO].mp4'"
      ]
     },
     "execution_count": 123,
     "metadata": {},
     "output_type": "execute_result"
    }
   ],
   "source": [
    "YouTube(url).streams.get_highest_resolution().download('/Users/keetane/Downloads/YouTube/movie')\n",
    "YouTube(url).streams.get_audio_only().download('/Users/keetane/Downloads/YouTube/music')"
   ]
  },
  {
   "cell_type": "code",
   "execution_count": 139,
   "metadata": {},
   "outputs": [],
   "source": [
    "for name in glob.glob('/Users/keetane/Downloads/YouTube/music/*.mp4'):\n",
    "    audioname"
   ]
  },
  {
   "cell_type": "code",
   "execution_count": 140,
   "metadata": {},
   "outputs": [
    {
     "data": {
      "text/plain": [
       "'/Users/keetane/Downloads/YouTube/music/H ZETTRIOみんなのチカラ&ぼくをみていた [MUSIC VIDEO].mp3'"
      ]
     },
     "execution_count": 140,
     "metadata": {},
     "output_type": "execute_result"
    }
   ],
   "source": [
    "audioname = name.replace('.mp4', '.mp3')\n",
    "audioname"
   ]
  },
  {
   "cell_type": "code",
   "execution_count": 141,
   "metadata": {},
   "outputs": [],
   "source": [
    "os.rename(name, audioname)"
   ]
  },
  {
   "cell_type": "code",
   "execution_count": null,
   "metadata": {},
   "outputs": [],
   "source": [
    "print(\"fertig\")"
   ]
  }
 ],
 "metadata": {
  "kernelspec": {
   "display_name": "Python 3",
   "language": "python",
   "name": "python3"
  },
  "language_info": {
   "codemirror_mode": {
    "name": "ipython",
    "version": 3
   },
   "file_extension": ".py",
   "mimetype": "text/x-python",
   "name": "python",
   "nbconvert_exporter": "python",
   "pygments_lexer": "ipython3",
   "version": "3.7.6"
  }
 },
 "nbformat": 4,
 "nbformat_minor": 4
}
