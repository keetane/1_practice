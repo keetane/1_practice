{
 "cells": [
  {
   "cell_type": "code",
   "execution_count": null,
   "metadata": {
    "slideshow": {
     "slide_type": "slide"
    }
   },
   "outputs": [],
   "source": [
    "import glob\n",
    "import os\n",
    "import shutil\n",
    "\n",
    "path = \"/work/1_practice/test/\"\n",
    "files = os.listdir(path) # file = glob.glob(path + \"*\")と同じ\n",
    "files_dir = [f for f in files if os.path.isdir(os.path.join(path, f))]\n",
    "# file名のみの一覧を取得したい場合は、同じように、os.path.isfile()を使う。\n",
    "files_dir.sort()"
   ]
  },
  {
   "cell_type": "code",
   "execution_count": null,
   "metadata": {},
   "outputs": [],
   "source": [
    "KeyWord = input(\"Enter the Title Name\")\n",
    "KeyWordDirectory = path + KeyWord + \"/\"\n",
    "os.makedirs(KeyWordDirectory)"
   ]
  },
  {
   "cell_type": "code",
   "execution_count": null,
   "metadata": {},
   "outputs": [],
   "source": [
    "for i, f in enumerate(files_dir):\n",
    "    dname = kw + \"{0:03d}\".format(i+1)\n",
    "    os.rename(path + f, path + dname)\n",
    "    shutil.make_archive(path + dname, \"zip\", path + dname)\n",
    "    zname = path + dname + \".zip\"\n",
    "    shutil.move(zname, KeyWordDirectory)\n",
    "print(\"fertig\")"
   ]
  }
 ],
 "metadata": {
  "kernelspec": {
   "display_name": "Python 3",
   "language": "python",
   "name": "python3"
  },
  "language_info": {
   "codemirror_mode": {
    "name": "ipython",
    "version": 3
   },
   "file_extension": ".py",
   "mimetype": "text/x-python",
   "name": "python",
   "nbconvert_exporter": "python",
   "pygments_lexer": "ipython3",
   "version": "3.7.6"
  }
 },
 "nbformat": 4,
 "nbformat_minor": 4
}
