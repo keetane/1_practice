{
 "cells": [
  {
   "cell_type": "code",
   "execution_count": 1,
   "metadata": {},
   "outputs": [
    {
     "data": {
      "text/plain": [
       "'/opt/anaconda3/lib/python3.7/site-packages/numpy/__init__.py'"
      ]
     },
     "execution_count": 1,
     "metadata": {},
     "output_type": "execute_result"
    }
   ],
   "source": [
    "import numpy as np\n",
    "np.__file__"
   ]
  },
  {
   "cell_type": "code",
   "execution_count": 2,
   "metadata": {},
   "outputs": [
    {
     "data": {
      "text/plain": [
       "[1, 2, 3]"
      ]
     },
     "execution_count": 2,
     "metadata": {},
     "output_type": "execute_result"
    }
   ],
   "source": [
    "python_list = [1, 2, 3]\n",
    "python_list"
   ]
  },
  {
   "cell_type": "code",
   "execution_count": 5,
   "metadata": {},
   "outputs": [
    {
     "data": {
      "text/plain": [
       "array([1, 2, 3])"
      ]
     },
     "execution_count": 5,
     "metadata": {},
     "output_type": "execute_result"
    }
   ],
   "source": [
    "np_list = np.array([1, 2, 3])\n",
    "np_list"
   ]
  },
  {
   "cell_type": "code",
   "execution_count": 6,
   "metadata": {},
   "outputs": [
    {
     "data": {
      "text/plain": [
       "[[1, 2, 3], [1, 2, 3], [1, 2, 3]]"
      ]
     },
     "execution_count": 6,
     "metadata": {},
     "output_type": "execute_result"
    }
   ],
   "source": [
    "python_list = [[1, 2, 3], [1, 2, 3], [1, 2, 3]]\n",
    "python_list"
   ]
  },
  {
   "cell_type": "code",
   "execution_count": 7,
   "metadata": {},
   "outputs": [
    {
     "data": {
      "text/plain": [
       "array([[1, 2, 3],\n",
       "       [1, 2, 3],\n",
       "       [1, 2, 3]])"
      ]
     },
     "execution_count": 7,
     "metadata": {},
     "output_type": "execute_result"
    }
   ],
   "source": [
    "np_list = np.array([[1, 2, 3], [1, 2, 3], [1, 2, 3]])\n",
    "np_list"
   ]
  },
  {
   "cell_type": "code",
   "execution_count": 8,
   "metadata": {},
   "outputs": [],
   "source": [
    "array1 = np.array([[1, 2, 3], [4, 5, 6], [7, 8, 9]])\n",
    "array2 = np.array([[1, 2, 3], [4, 5, 6], [7, 8, 9]])"
   ]
  },
  {
   "cell_type": "code",
   "execution_count": 9,
   "metadata": {},
   "outputs": [
    {
     "data": {
      "text/plain": [
       "array([[ 2,  4,  6],\n",
       "       [ 8, 10, 12],\n",
       "       [14, 16, 18]])"
      ]
     },
     "execution_count": 9,
     "metadata": {},
     "output_type": "execute_result"
    }
   ],
   "source": [
    "array1 + array2"
   ]
  },
  {
   "cell_type": "code",
   "execution_count": 10,
   "metadata": {},
   "outputs": [
    {
     "data": {
      "text/plain": [
       "array([[ 1,  4,  9],\n",
       "       [16, 25, 36],\n",
       "       [49, 64, 81]])"
      ]
     },
     "execution_count": 10,
     "metadata": {},
     "output_type": "execute_result"
    }
   ],
   "source": [
    "array1 * array2"
   ]
  },
  {
   "cell_type": "code",
   "execution_count": 11,
   "metadata": {},
   "outputs": [
    {
     "data": {
      "text/plain": [
       "array([[0, 0, 0],\n",
       "       [0, 0, 0],\n",
       "       [0, 0, 0]])"
      ]
     },
     "execution_count": 11,
     "metadata": {},
     "output_type": "execute_result"
    }
   ],
   "source": [
    "array1 - array2"
   ]
  },
  {
   "cell_type": "code",
   "execution_count": 12,
   "metadata": {},
   "outputs": [
    {
     "data": {
      "text/plain": [
       "array([[1., 1., 1.],\n",
       "       [1., 1., 1.],\n",
       "       [1., 1., 1.]])"
      ]
     },
     "execution_count": 12,
     "metadata": {},
     "output_type": "execute_result"
    }
   ],
   "source": [
    "array1 / array2"
   ]
  },
  {
   "cell_type": "code",
   "execution_count": 13,
   "metadata": {},
   "outputs": [],
   "source": [
    "array3 = np.array([1, 2, 3])\n",
    "array4 = np.array([[1, 2, 3], [4, 5, 6], [7, 8, 9]])"
   ]
  },
  {
   "cell_type": "code",
   "execution_count": 14,
   "metadata": {},
   "outputs": [
    {
     "data": {
      "text/plain": [
       "array([[ 2,  4,  6],\n",
       "       [ 5,  7,  9],\n",
       "       [ 8, 10, 12]])"
      ]
     },
     "execution_count": 14,
     "metadata": {},
     "output_type": "execute_result"
    }
   ],
   "source": [
    "array3 + array4"
   ]
  },
  {
   "cell_type": "code",
   "execution_count": 15,
   "metadata": {},
   "outputs": [
    {
     "data": {
      "text/plain": [
       "array([[ 1,  4,  9],\n",
       "       [ 4, 10, 18],\n",
       "       [ 7, 16, 27]])"
      ]
     },
     "execution_count": 15,
     "metadata": {},
     "output_type": "execute_result"
    }
   ],
   "source": [
    "array3 * array4"
   ]
  },
  {
   "cell_type": "code",
   "execution_count": 16,
   "metadata": {},
   "outputs": [
    {
     "data": {
      "text/plain": [
       "array([[ 0,  0,  0],\n",
       "       [-3, -3, -3],\n",
       "       [-6, -6, -6]])"
      ]
     },
     "execution_count": 16,
     "metadata": {},
     "output_type": "execute_result"
    }
   ],
   "source": [
    "array3 - array4"
   ]
  },
  {
   "cell_type": "code",
   "execution_count": 17,
   "metadata": {},
   "outputs": [
    {
     "data": {
      "text/plain": [
       "array([[1.        , 1.        , 1.        ],\n",
       "       [0.25      , 0.4       , 0.5       ],\n",
       "       [0.14285714, 0.25      , 0.33333333]])"
      ]
     },
     "execution_count": 17,
     "metadata": {},
     "output_type": "execute_result"
    }
   ],
   "source": [
    "array3 / array4"
   ]
  },
  {
   "cell_type": "code",
   "execution_count": 18,
   "metadata": {},
   "outputs": [],
   "source": [
    "array5 = np.array([1, 2, 3, 4])\n",
    "array6 = np.array([[1, 2, 3], [4, 5, 6], [7, 8, 9]])"
   ]
  },
  {
   "cell_type": "code",
   "execution_count": 19,
   "metadata": {},
   "outputs": [
    {
     "ename": "NameError",
     "evalue": "name 'arra5' is not defined",
     "output_type": "error",
     "traceback": [
      "\u001b[0;31m---------------------------------------------------------------------------\u001b[0m",
      "\u001b[0;31mNameError\u001b[0m                                 Traceback (most recent call last)",
      "\u001b[0;32m<ipython-input-19-2717a973781d>\u001b[0m in \u001b[0;36m<module>\u001b[0;34m\u001b[0m\n\u001b[0;32m----> 1\u001b[0;31m \u001b[0marra5\u001b[0m \u001b[0;34m+\u001b[0m \u001b[0marray6\u001b[0m\u001b[0;34m\u001b[0m\u001b[0;34m\u001b[0m\u001b[0m\n\u001b[0m",
      "\u001b[0;31mNameError\u001b[0m: name 'arra5' is not defined"
     ]
    }
   ],
   "source": [
    "arra5 + array6"
   ]
  },
  {
   "cell_type": "markdown",
   "metadata": {},
   "source": [
    "### IndexingとSlicing"
   ]
  },
  {
   "cell_type": "code",
   "execution_count": 20,
   "metadata": {},
   "outputs": [
    {
     "name": "stdout",
     "output_type": "stream",
     "text": [
      "[[1 2]\n",
      " [3 4]\n",
      " [5 6]]\n"
     ]
    }
   ],
   "source": [
    "ndarray = np.array(([1, 2], [3, 4], [5, 6]))\n",
    "print(ndarray)"
   ]
  },
  {
   "cell_type": "code",
   "execution_count": 21,
   "metadata": {},
   "outputs": [
    {
     "name": "stdout",
     "output_type": "stream",
     "text": [
      "3\n",
      "3\n"
     ]
    }
   ],
   "source": [
    "print(ndarray[1][0])\n",
    "print(ndarray[1, 0])"
   ]
  },
  {
   "cell_type": "code",
   "execution_count": 22,
   "metadata": {},
   "outputs": [
    {
     "name": "stdout",
     "output_type": "stream",
     "text": [
      "[2 3 4 5 6]\n",
      "[2 4 6]\n"
     ]
    }
   ],
   "source": [
    "array = np.array([1, 2, 3, 4, 5, 6, 7])\n",
    "print(array[1:6])\n",
    "print(array[1:6:2])"
   ]
  },
  {
   "cell_type": "markdown",
   "metadata": {},
   "source": [
    "### [N:M:L]とするとL-1飛びでslicingできます．"
   ]
  },
  {
   "cell_type": "code",
   "execution_count": 23,
   "metadata": {},
   "outputs": [
    {
     "name": "stdout",
     "output_type": "stream",
     "text": [
      "[1 2 3]\n"
     ]
    }
   ],
   "source": [
    "ndarray = np.array([1, 2, 3])\n",
    "print(ndarray)"
   ]
  },
  {
   "cell_type": "code",
   "execution_count": 24,
   "metadata": {},
   "outputs": [
    {
     "data": {
      "text/plain": [
       "array([0, 2, 4])"
      ]
     },
     "execution_count": 24,
     "metadata": {},
     "output_type": "execute_result"
    }
   ],
   "source": [
    "np.arange(0, 5, 2)"
   ]
  },
  {
   "cell_type": "markdown",
   "metadata": {},
   "source": [
    "### np.arange(start, stop(, step))\n",
    "### startからstopまでをstepおきに作成"
   ]
  },
  {
   "cell_type": "code",
   "execution_count": 25,
   "metadata": {},
   "outputs": [
    {
     "data": {
      "text/plain": [
       "array([0, 1, 2, 3, 4])"
      ]
     },
     "execution_count": 25,
     "metadata": {},
     "output_type": "execute_result"
    }
   ],
   "source": [
    "np.arange(5)"
   ]
  },
  {
   "cell_type": "code",
   "execution_count": 26,
   "metadata": {},
   "outputs": [
    {
     "data": {
      "text/plain": [
       "array([0, 1, 2, 3, 4])"
      ]
     },
     "execution_count": 26,
     "metadata": {},
     "output_type": "execute_result"
    }
   ],
   "source": [
    "np.arange(0, 5)"
   ]
  },
  {
   "cell_type": "code",
   "execution_count": 27,
   "metadata": {},
   "outputs": [
    {
     "data": {
      "text/plain": [
       "array([-5, -4, -3, -2, -1,  0,  1,  2,  3,  4])"
      ]
     },
     "execution_count": 27,
     "metadata": {},
     "output_type": "execute_result"
    }
   ],
   "source": [
    "np.arange(-5, 5)"
   ]
  },
  {
   "cell_type": "code",
   "execution_count": 28,
   "metadata": {},
   "outputs": [
    {
     "data": {
      "text/plain": [
       "array([1])"
      ]
     },
     "execution_count": 28,
     "metadata": {},
     "output_type": "execute_result"
    }
   ],
   "source": [
    "np.arange(1, 2, 20)"
   ]
  },
  {
   "cell_type": "code",
   "execution_count": 29,
   "metadata": {},
   "outputs": [
    {
     "data": {
      "text/plain": [
       "array([100, 120, 140, 160, 180])"
      ]
     },
     "execution_count": 29,
     "metadata": {},
     "output_type": "execute_result"
    }
   ],
   "source": [
    "np.arange(100, 200, 20)"
   ]
  },
  {
   "cell_type": "code",
   "execution_count": 30,
   "metadata": {},
   "outputs": [
    {
     "data": {
      "text/plain": [
       "array([1.        , 1.05263158, 1.10526316, 1.15789474, 1.21052632,\n",
       "       1.26315789, 1.31578947, 1.36842105, 1.42105263, 1.47368421,\n",
       "       1.52631579, 1.57894737, 1.63157895, 1.68421053, 1.73684211,\n",
       "       1.78947368, 1.84210526, 1.89473684, 1.94736842, 2.        ])"
      ]
     },
     "execution_count": 30,
     "metadata": {},
     "output_type": "execute_result"
    }
   ],
   "source": [
    "np.linspace(1, 2, 20)"
   ]
  },
  {
   "cell_type": "markdown",
   "metadata": {},
   "source": [
    "### np.linspace(start, stop, num=50)\n",
    "### np.arange()がstepだったのに対し，np.linspace()は要素の数(num)を指定します．startからstopまでの値をnum等分した値がarrayで返されます．stepを指定したい時はnp.arange()で，stepはなんでもいいが特定の数だけほしいという場合はnp.linspace()を使いましょう．stopの値を含むことに注意しましょう．"
   ]
  },
  {
   "cell_type": "code",
   "execution_count": 31,
   "metadata": {},
   "outputs": [
    {
     "name": "stdout",
     "output_type": "stream",
     "text": [
      "original array's id is 4685076800\n",
      "copied array's id is 4685425600\n",
      "original array:\n",
      " [100 100 100 100 100]\n",
      "copied array:\n",
      " [0 1 2 3 4]\n"
     ]
    }
   ],
   "source": [
    "ndarray = np.arange(0, 5)\n",
    "ndarray_copy = ndarray.copy()\n",
    "print(\"original array's id is {}\".format(id(ndarray)))\n",
    "print(\"copied array's id is {}\".format(id(ndarray_copy)))\n",
    "\n",
    "#changing original array\n",
    "ndarray[:] = 100\n",
    "print('original array:\\n', ndarray)\n",
    "print('copied array:\\n', ndarray_copy)"
   ]
  },
  {
   "cell_type": "code",
   "execution_count": 32,
   "metadata": {},
   "outputs": [
    {
     "name": "stdout",
     "output_type": "stream",
     "text": [
      "4391718192\n",
      "4391718192\n"
     ]
    }
   ],
   "source": [
    "def myfunc(n):\n",
    "    print(id(n))\n",
    "\n",
    "a = 'test'\n",
    "print(id(a))\n",
    "myfunc(a)"
   ]
  },
  {
   "cell_type": "code",
   "execution_count": 33,
   "metadata": {},
   "outputs": [],
   "source": [
    "def add_world(hello):\n",
    "    hello += ' world'\n",
    "    return hello"
   ]
  },
  {
   "cell_type": "code",
   "execution_count": 34,
   "metadata": {},
   "outputs": [
    {
     "name": "stdout",
     "output_type": "stream",
     "text": [
      "output_str: hello world\n",
      "outpur_list: ['h', 'e', 'l', 'l', 'o', ' ', 'w', 'o', 'r', 'l', 'd']\n",
      "outpur_array: [array([100, 100, 100, 100, 100]), ' ', 'w', 'o', 'r', 'l', 'd']\n",
      "h_str: hello\n",
      "h_list: ['h', 'e', 'l', 'l', 'o', ' ', 'w', 'o', 'r', 'l', 'd']\n"
     ]
    }
   ],
   "source": [
    "h_str = 'hello'\n",
    "h_list = ['h', 'e', 'l', 'l', 'o']\n",
    "h_array = [ndarray]\n",
    "output_str = add_world(h_str)\n",
    "output_list = add_world(h_list)\n",
    "output_array = add_world(h_array)\n",
    "\n",
    "print('output_str: {}'.format(output_str))\n",
    "print('outpur_list: {}'.format(output_list))\n",
    "print('outpur_array: {}'.format(output_array))\n",
    "\n",
    "\n",
    "print('h_str: {}'.format(h_str))\n",
    "print('h_list: {}'.format(h_list))"
   ]
  },
  {
   "cell_type": "code",
   "execution_count": 35,
   "metadata": {},
   "outputs": [
    {
     "name": "stdout",
     "output_type": "stream",
     "text": [
      "original array_1:\n",
      " [100   1   2   3]\n",
      "original array_2:\n",
      " [0 1 2 3]\n"
     ]
    }
   ],
   "source": [
    "def change_hundred(array):\n",
    "    \n",
    "    array[0] = 100\n",
    "    return array\n",
    "\n",
    "def change_hundred_copy(array):\n",
    "    \n",
    "    array_copy = array.copy()\n",
    "    array_copy[0] = 100\n",
    "    return array_copy\n",
    "\n",
    "array_1 = np.arange(0, 4)\n",
    "array_2 = np.arange(0, 4)\n",
    "\n",
    "output_array = change_hundred(array_1)\n",
    "output_array_copy = change_hundred_copy(array_2)\n",
    "\n",
    "print('original array_1:\\n', array_1)\n",
    "print('original array_2:\\n', array_2)"
   ]
  },
  {
   "cell_type": "code",
   "execution_count": 36,
   "metadata": {},
   "outputs": [
    {
     "name": "stdout",
     "output_type": "stream",
     "text": [
      "[[[0. 0. 0. 0. 0.]\n",
      "  [0. 0. 0. 0. 0.]\n",
      "  [0. 0. 0. 0. 0.]]\n",
      "\n",
      " [[0. 0. 0. 0. 0.]\n",
      "  [0. 0. 0. 0. 0.]\n",
      "  [0. 0. 0. 0. 0.]]]\n"
     ]
    }
   ],
   "source": [
    "shape = (2, 3, 5)\n",
    "zeros = np.zeros(shape)\n",
    "print(zeros)"
   ]
  },
  {
   "cell_type": "code",
   "execution_count": 37,
   "metadata": {},
   "outputs": [
    {
     "name": "stdout",
     "output_type": "stream",
     "text": [
      "[[[1. 1. 1. 1. 1.]\n",
      "  [1. 1. 1. 1. 1.]\n",
      "  [1. 1. 1. 1. 1.]]\n",
      "\n",
      " [[1. 1. 1. 1. 1.]\n",
      "  [1. 1. 1. 1. 1.]\n",
      "  [1. 1. 1. 1. 1.]]]\n",
      "[]\n",
      "[1. 1. 1. 1.]\n",
      "['1' '1' '1' '1']\n",
      "[1 1 1 1]\n"
     ]
    }
   ],
   "source": [
    "shape = (2, 3, 5)\n",
    "ones_array_1 = np.ones(shape)\n",
    "ones_array_2 = np.ones(0)\n",
    "ones_array_3 = np.ones(4)\n",
    "ones_array_4 = np.ones(4, str)\n",
    "ones_array_5 = np.ones(4, list)\n",
    "\n",
    "\n",
    "print(ones_array_1)\n",
    "print(ones_array_2)\n",
    "print(ones_array_3)\n",
    "print(ones_array_4)\n",
    "print(ones_array_5)\n"
   ]
  },
  {
   "cell_type": "code",
   "execution_count": 38,
   "metadata": {},
   "outputs": [
    {
     "data": {
      "text/plain": [
       "array([[1., 0., 0.],\n",
       "       [0., 1., 0.],\n",
       "       [0., 0., 1.]])"
      ]
     },
     "execution_count": 38,
     "metadata": {},
     "output_type": "execute_result"
    }
   ],
   "source": [
    "np.eye(3)"
   ]
  },
  {
   "cell_type": "code",
   "execution_count": 39,
   "metadata": {},
   "outputs": [
    {
     "data": {
      "text/plain": [
       "array([[1., 0., 0., 0., 0.],\n",
       "       [0., 1., 0., 0., 0.],\n",
       "       [0., 0., 1., 0., 0.]])"
      ]
     },
     "execution_count": 39,
     "metadata": {},
     "output_type": "execute_result"
    }
   ],
   "source": [
    "np.eye(3, 5)"
   ]
  },
  {
   "cell_type": "code",
   "execution_count": 40,
   "metadata": {},
   "outputs": [
    {
     "name": "stdout",
     "output_type": "stream",
     "text": [
      "random_float: 0.7342901239174056\n",
      "\n",
      "random_1d: [0.67856514 0.38775447 0.41986112]\n",
      "\n",
      "random_2d: [[0.90561366 0.75079367 0.76243739 0.40268176]\n",
      " [0.14044495 0.01140861 0.85634733 0.67829145]\n",
      " [0.07331898 0.85533803 0.78052476 0.51799184]]\n",
      "\n"
     ]
    }
   ],
   "source": [
    "random_float = np.random.rand()\n",
    "random_1d = np.random.rand(3)\n",
    "random_2d = np.random.rand(3, 4)\n",
    "\n",
    "print('random_float: {}\\n'.format(random_float))\n",
    "print('random_1d: {}\\n'.format(random_1d))\n",
    "print('random_2d: {}\\n'.format(random_2d))"
   ]
  },
  {
   "cell_type": "code",
   "execution_count": 41,
   "metadata": {},
   "outputs": [
    {
     "name": "stdout",
     "output_type": "stream",
     "text": [
      "random_float: 0.3027929803639747\n",
      "\n",
      "random_1d: [ 1.22741788 -0.38991655 -0.18466787]\n",
      "\n",
      "random_2d: [[ 0.68952225  0.9626096   1.14030614  0.33536063]\n",
      " [ 1.1583618   0.44753362 -0.00762447  1.01109325]\n",
      " [-0.81711561 -0.71022174 -0.2768931   0.46439523]]\n",
      "\n"
     ]
    }
   ],
   "source": [
    "random_float = np.random.randn()\n",
    "random_1d = np.random.randn(3)\n",
    "random_2d = np.random.randn(3, 4)\n",
    "\n",
    "print('random_float: {}\\n'.format(random_float))\n",
    "print('random_1d: {}\\n'.format(random_1d))\n",
    "print('random_2d: {}\\n'.format(random_2d))"
   ]
  },
  {
   "cell_type": "code",
   "execution_count": 42,
   "metadata": {},
   "outputs": [
    {
     "data": {
      "text/plain": [
       "array([[[12, 20, 44],\n",
       "        [40, 44, 26],\n",
       "        [42, 42, 17],\n",
       "        [39, 27, 32]],\n",
       "\n",
       "       [[37, 27, 11],\n",
       "        [37, 44, 16],\n",
       "        [42, 38, 31],\n",
       "        [39, 11, 38]]])"
      ]
     },
     "execution_count": 42,
     "metadata": {},
     "output_type": "execute_result"
    }
   ],
   "source": [
    "np.random.randint(10, 50, size=(2, 4, 3))"
   ]
  },
  {
   "cell_type": "code",
   "execution_count": 43,
   "metadata": {},
   "outputs": [
    {
     "data": {
      "text/plain": [
       "17"
      ]
     },
     "execution_count": 43,
     "metadata": {},
     "output_type": "execute_result"
    }
   ],
   "source": [
    "np.random.randint(10, 50)"
   ]
  },
  {
   "cell_type": "code",
   "execution_count": 44,
   "metadata": {},
   "outputs": [
    {
     "data": {
      "text/plain": [
       "array([[18, 22],\n",
       "       [22, 42],\n",
       "       [40, 20],\n",
       "       [30, 34],\n",
       "       [42, 26]])"
      ]
     },
     "execution_count": 44,
     "metadata": {},
     "output_type": "execute_result"
    }
   ],
   "source": [
    "np.random.randint(10, 50, size=(5, 2))"
   ]
  },
  {
   "cell_type": "code",
   "execution_count": 45,
   "metadata": {},
   "outputs": [
    {
     "data": {
      "text/plain": [
       "array([[[[23, 38, 40, 44],\n",
       "         [49, 39, 29, 20],\n",
       "         [17, 39, 28, 15]],\n",
       "\n",
       "        [[43, 49, 32, 30],\n",
       "         [36, 34, 22, 43],\n",
       "         [22, 17, 14, 17]]],\n",
       "\n",
       "\n",
       "       [[[28, 46, 33, 40],\n",
       "         [14, 32, 24, 30],\n",
       "         [49, 19, 18, 13]],\n",
       "\n",
       "        [[40, 38, 19, 36],\n",
       "         [26, 30, 10, 13],\n",
       "         [33, 10, 48, 29]]],\n",
       "\n",
       "\n",
       "       [[[32, 43, 43, 31],\n",
       "         [30, 44, 26, 16],\n",
       "         [22, 14, 26, 34]],\n",
       "\n",
       "        [[33, 14, 27, 42],\n",
       "         [19, 26, 13, 39],\n",
       "         [29, 11, 32, 23]]],\n",
       "\n",
       "\n",
       "       [[[21, 10, 19, 34],\n",
       "         [27, 40, 31, 20],\n",
       "         [24, 26, 34, 11]],\n",
       "\n",
       "        [[43, 45, 16, 48],\n",
       "         [11, 20, 17, 46],\n",
       "         [43, 11, 16, 32]]],\n",
       "\n",
       "\n",
       "       [[[48, 34, 35, 13],\n",
       "         [21, 16, 30, 19],\n",
       "         [21, 14, 33, 44]],\n",
       "\n",
       "        [[48, 42, 46, 18],\n",
       "         [10, 24, 38, 49],\n",
       "         [47, 49, 21, 36]]]])"
      ]
     },
     "execution_count": 45,
     "metadata": {},
     "output_type": "execute_result"
    }
   ],
   "source": [
    "np.random.randint(10, 50, size=(5, 2, 3, 4))"
   ]
  },
  {
   "cell_type": "markdown",
   "metadata": {},
   "source": [
    "### array sizeは()内左から大きい次元要素を構成する。"
   ]
  },
  {
   "cell_type": "code",
   "execution_count": 48,
   "metadata": {
    "scrolled": true
   },
   "outputs": [
    {
     "ename": "SyntaxError",
     "evalue": "invalid syntax (<ipython-input-48-c07ef9260cab>, line 7)",
     "output_type": "error",
     "traceback": [
      "\u001b[0;36m  File \u001b[0;32m\"<ipython-input-48-c07ef9260cab>\"\u001b[0;36m, line \u001b[0;32m7\u001b[0m\n\u001b[0;31m    print('original array is NOT changed:\\n{} '.format(array))\u001b[0m\n\u001b[0m        ^\u001b[0m\n\u001b[0;31mSyntaxError\u001b[0m\u001b[0;31m:\u001b[0m invalid syntax\n"
     ]
    }
   ],
   "source": [
    "array = np.arange(0, 10)\n",
    "print('array:\\n{}'.format(array))\n",
    "new_shape = (2,5)\n",
    "reshaped_array = array.reshape(new_shape)\n",
    "print('reshaped array:\\n{} '.format(reshaped_array))\n",
    "print(\"reshaped array's is:\\n{} \".format(reshaped_array.shape)\n",
    "print('original array is NOT changed:\\n{} '.format(array))"
   ]
  },
  {
   "cell_type": "markdown",
   "metadata": {},
   "source": [
    "### 要素の統計量を求める"
   ]
  },
  {
   "cell_type": "code",
   "execution_count": 49,
   "metadata": {},
   "outputs": [
    {
     "name": "stdout",
     "output_type": "stream",
     "text": [
      "[[ 0.25711241 -1.45211176  0.48866393  0.05310906  0.18758952]\n",
      " [-0.01717494  1.07215712  0.76133566 -1.0873248   0.61455677]\n",
      " [ 1.83307533 -1.15811577  0.82825492 -1.84120361  0.80362116]\n",
      " [ 0.25756359  0.78503144 -0.90095913 -0.65770369  0.7483936 ]\n",
      " [ 0.0194396   2.36113641  0.32688481  0.88955642 -0.61385977]]\n"
     ]
    }
   ],
   "source": [
    "normal_dist_mat = np.random.randn(5, 5)\n",
    "print(normal_dist_mat)"
   ]
  },
  {
   "cell_type": "code",
   "execution_count": 50,
   "metadata": {},
   "outputs": [
    {
     "name": "stdout",
     "output_type": "stream",
     "text": [
      "max is:\n",
      "aaa\n",
      "2.361136412310941\n",
      "2.361136412310941\n"
     ]
    }
   ],
   "source": [
    "print('max is:\\naaa')\n",
    "print(normal_dist_mat.max())\n",
    "print(np.max(normal_dist_mat))"
   ]
  },
  {
   "cell_type": "code",
   "execution_count": 51,
   "metadata": {},
   "outputs": [
    {
     "name": "stdout",
     "output_type": "stream",
     "text": [
      "argmax is\n",
      "21\n"
     ]
    }
   ],
   "source": [
    "#argmax\n",
    "print('argmax is')\n",
    "print(normal_dist_mat.argmax())"
   ]
  },
  {
   "cell_type": "code",
   "execution_count": 52,
   "metadata": {},
   "outputs": [
    {
     "data": {
      "text/plain": [
       "0.6145567710917652"
      ]
     },
     "execution_count": 52,
     "metadata": {},
     "output_type": "execute_result"
    }
   ],
   "source": [
    "normal_dist_mat.flatten()[9]"
   ]
  },
  {
   "cell_type": "code",
   "execution_count": 53,
   "metadata": {},
   "outputs": [
    {
     "name": "stdout",
     "output_type": "stream",
     "text": [
      "[[ 0.25711241 -1.45211176  0.48866393  0.05310906  0.18758952]\n",
      " [-0.01717494  1.07215712  0.76133566 -1.0873248   0.61455677]\n",
      " [ 1.83307533 -1.15811577  0.82825492 -1.84120361  0.80362116]\n",
      " [ 0.25756359  0.78503144 -0.90095913 -0.65770369  0.7483936 ]\n",
      " [ 0.0194396   2.36113641  0.32688481  0.88955642 -0.61385977]]\n",
      "21\n",
      "2.361136412310941\n",
      "0.4886639315959251\n"
     ]
    }
   ],
   "source": [
    "print(normal_dist_mat)\n",
    "print(normal_dist_mat.argmax())\n",
    "print(normal_dist_mat.flatten()[normal_dist_mat.argmax()])\n",
    "print(normal_dist_mat.flatten()[2])"
   ]
  },
  {
   "cell_type": "code",
   "execution_count": 54,
   "metadata": {},
   "outputs": [
    {
     "name": "stdout",
     "output_type": "stream",
     "text": [
      "min is\n",
      "-1.841203613274073\n",
      "argmin is\n",
      "13\n"
     ]
    }
   ],
   "source": [
    "print('min is')\n",
    "print(normal_dist_mat.min())\n",
    "print('argmin is')\n",
    "print(normal_dist_mat.argmin())"
   ]
  },
  {
   "cell_type": "code",
   "execution_count": 55,
   "metadata": {},
   "outputs": [
    {
     "name": "stdout",
     "output_type": "stream",
     "text": [
      "mean is\n",
      "0.18236113052573585\n"
     ]
    }
   ],
   "source": [
    "print('mean is')\n",
    "print(normal_dist_mat.mean())"
   ]
  },
  {
   "cell_type": "code",
   "execution_count": 56,
   "metadata": {},
   "outputs": [
    {
     "name": "stdout",
     "output_type": "stream",
     "text": [
      "median is\n",
      "0.25756358858355904\n"
     ]
    }
   ],
   "source": [
    "print('median is')\n",
    "print(np.median(normal_dist_mat))"
   ]
  },
  {
   "cell_type": "code",
   "execution_count": 57,
   "metadata": {},
   "outputs": [
    {
     "name": "stdout",
     "output_type": "stream",
     "text": [
      "standard deviation is\n",
      "0.9730391971767065\n"
     ]
    }
   ],
   "source": [
    "print('standard deviation is')\n",
    "print(normal_dist_mat.std())"
   ]
  },
  {
   "cell_type": "code",
   "execution_count": 58,
   "metadata": {},
   "outputs": [
    {
     "name": "stdout",
     "output_type": "stream",
     "text": [
      "[[ 0.25711241 -1.45211176  0.48866393  0.05310906  0.18758952]\n",
      " [-0.01717494  1.07215712  0.76133566 -1.0873248   0.61455677]\n",
      " [ 1.83307533 -1.15811577  0.82825492 -1.84120361  0.80362116]\n",
      " [ 0.25756359  0.78503144 -0.90095913 -0.65770369  0.7483936 ]\n",
      " [ 0.0194396   2.36113641  0.32688481  0.88955642 -0.61385977]]\n",
      "axis=0> [1.83307533 2.36113641 0.82825492 0.88955642 0.80362116]\n",
      "axis=0< [-0.01717494 -1.45211176 -0.90095913 -1.84120361 -0.61385977]\n",
      "axis=1> [0.48866393 1.07215712 1.83307533 0.78503144 2.36113641]\n",
      "axis=1< [-1.45211176 -1.0873248  -1.84120361 -0.90095913 -0.61385977]\n"
     ]
    },
    {
     "data": {
      "text/plain": [
       "array([-1.45211176, -1.0873248 , -1.84120361, -0.90095913, -0.61385977])"
      ]
     },
     "execution_count": 58,
     "metadata": {},
     "output_type": "execute_result"
    }
   ],
   "source": [
    "print(normal_dist_mat)\n",
    "print('axis=0> {}'.format(normal_dist_mat.max(axis=0)))\n",
    "print('axis=0< {}'.format(normal_dist_mat.min(axis=0)))\n",
    "print('axis=1> {}'.format(normal_dist_mat.max(axis=1)))\n",
    "print('axis=1< {}'.format(normal_dist_mat.min(axis=1)))\n",
    "normal_dist_mat.min(axis=1)"
   ]
  },
  {
   "cell_type": "markdown",
   "metadata": {},
   "source": [
    "### また，特定の行，列での統計量を求めたい場合は引数axisを指定します．axis=0を指定すると各列の統計量，axis=1を指定すると各行の統計量を返します．このaxisの使い方は重要です．覚えておきましょう．\n",
    "### >上記の例では例えば、axis=0>だと各列の最大値が帰ってきている"
   ]
  },
  {
   "cell_type": "code",
   "execution_count": 59,
   "metadata": {},
   "outputs": [],
   "source": [
    "def axis0():\n",
    "    return normal_dist_mat.max(axis=0)"
   ]
  },
  {
   "cell_type": "code",
   "execution_count": 60,
   "metadata": {},
   "outputs": [
    {
     "data": {
      "text/plain": [
       "array([1.83307533, 2.36113641, 0.82825492, 0.88955642, 0.80362116])"
      ]
     },
     "execution_count": 60,
     "metadata": {},
     "output_type": "execute_result"
    }
   ],
   "source": [
    "axis0()"
   ]
  },
  {
   "cell_type": "code",
   "execution_count": 61,
   "metadata": {},
   "outputs": [
    {
     "name": "stdout",
     "output_type": "stream",
     "text": [
      "[-3.         -2.33333333 -1.66666667 -1.         -0.33333333  0.33333333\n",
      "  1.          1.66666667  2.33333333  3.        ]\n",
      "[ 0.04978707  0.09697197  0.1888756   0.36787944  0.71653131  1.39561243\n",
      "  2.71828183  5.29449005 10.3122585  20.08553692]\n"
     ]
    }
   ],
   "source": [
    "ndarray = np.linspace(-3, 3, 10)\n",
    "expndarray = np.exp(ndarray)\n",
    "print(ndarray)\n",
    "print(expndarray)"
   ]
  },
  {
   "cell_type": "code",
   "execution_count": 65,
   "metadata": {},
   "outputs": [
    {
     "name": "stdout",
     "output_type": "stream",
     "text": [
      "[-3.         -2.33333333 -1.66666667 -1.         -0.33333333  0.33333333\n",
      "  1.          1.66666667  2.33333333  3.        ]\n",
      "[        nan         nan         nan         nan         nan -1.09861229\n",
      "  0.          0.51082562  0.84729786  1.09861229]\n"
     ]
    },
    {
     "name": "stderr",
     "output_type": "stream",
     "text": [
      "/opt/anaconda3/lib/python3.7/site-packages/ipykernel_launcher.py:2: RuntimeWarning: invalid value encountered in log\n",
      "  \n"
     ]
    }
   ],
   "source": [
    "ndarray = np.linspace(-3, 3, 10)\n",
    "logndarray = np.log(ndarray)\n",
    "print(ndarray)\n",
    "print(logndarray)"
   ]
  },
  {
   "cell_type": "code",
   "execution_count": 66,
   "metadata": {},
   "outputs": [
    {
     "name": "stdout",
     "output_type": "stream",
     "text": [
      "nan\n",
      "nan == None?:False\n"
     ]
    }
   ],
   "source": [
    "print(logndarray[0])\n",
    "print('nan == None?:{}'.format(logndarray[0] is None))"
   ]
  },
  {
   "cell_type": "code",
   "execution_count": 67,
   "metadata": {},
   "outputs": [
    {
     "data": {
      "text/plain": [
       "True"
      ]
     },
     "execution_count": 67,
     "metadata": {},
     "output_type": "execute_result"
    }
   ],
   "source": [
    "np.isnan(logndarray[0])"
   ]
  },
  {
   "cell_type": "code",
   "execution_count": 68,
   "metadata": {},
   "outputs": [
    {
     "name": "stdout",
     "output_type": "stream",
     "text": [
      "2.718281828459045\n",
      "1.0\n"
     ]
    }
   ],
   "source": [
    "print(np.e)\n",
    "print(np.log(np.e))"
   ]
  },
  {
   "cell_type": "code",
   "execution_count": 69,
   "metadata": {},
   "outputs": [
    {
     "name": "stdout",
     "output_type": "stream",
     "text": [
      "array is:\n",
      "[[1 2 3]\n",
      " [4 5 6]\n",
      " [7 8 9]]\n",
      "ndarray's shape is:\n",
      "(3, 3)\n"
     ]
    }
   ],
   "source": [
    "ndarray = np.array([[1, 2, 3], [4, 5, 6], [7, 8, 9]])\n",
    "print('array is:\\n{}'.format(ndarray))\n",
    "print(\"ndarray's shape is:\\n{}\".format(ndarray.shape))"
   ]
  },
  {
   "cell_type": "code",
   "execution_count": 70,
   "metadata": {},
   "outputs": [
    {
     "data": {
      "text/plain": [
       "(1, 3, 3)"
      ]
     },
     "execution_count": 70,
     "metadata": {},
     "output_type": "execute_result"
    }
   ],
   "source": [
    "expanded_ndarray = np.expand_dims(ndarray, axis=0)\n",
    "expanded_ndarray.shape"
   ]
  },
  {
   "cell_type": "code",
   "execution_count": 71,
   "metadata": {},
   "outputs": [
    {
     "data": {
      "text/plain": [
       "(3, 3)"
      ]
     },
     "execution_count": 71,
     "metadata": {},
     "output_type": "execute_result"
    }
   ],
   "source": [
    "squeezed_expanded_ndarray = np.squeeze(expanded_ndarray)\n",
    "squeezed_expanded_ndarray.shape"
   ]
  },
  {
   "cell_type": "code",
   "execution_count": 72,
   "metadata": {},
   "outputs": [
    {
     "name": "stdout",
     "output_type": "stream",
     "text": [
      "flatten_array:\n",
      "[1 2 3 4 5 6 7 8 9]\n",
      "ndarray:\n",
      "[[1 2 3]\n",
      " [4 5 6]\n",
      " [7 8 9]]\n"
     ]
    }
   ],
   "source": [
    "flatten_array = ndarray.flatten()\n",
    "print('flatten_array:\\n{}'.format(flatten_array))\n",
    "print('ndarray:\\n{}'.format(ndarray))"
   ]
  },
  {
   "cell_type": "code",
   "execution_count": 73,
   "metadata": {},
   "outputs": [],
   "source": [
    "ndarray = np.array([\n",
    "    [1, 2, 3, 4],\n",
    "    [10, 20, 30, 40],\n",
    "    [100, 200, 300, 400],\n",
    "])\n",
    "np.save('saved_numpy', ndarray)"
   ]
  },
  {
   "cell_type": "code",
   "execution_count": 74,
   "metadata": {},
   "outputs": [
    {
     "data": {
      "text/plain": [
       "array([[  1,   2,   3,   4],\n",
       "       [ 10,  20,  30,  40],\n",
       "       [100, 200, 300, 400]])"
      ]
     },
     "execution_count": 74,
     "metadata": {},
     "output_type": "execute_result"
    }
   ],
   "source": [
    "loaded_numpy = np.load('saved_numpy.npy')\n",
    "loaded_numpy"
   ]
  },
  {
   "cell_type": "code",
   "execution_count": null,
   "metadata": {},
   "outputs": [],
   "source": []
  }
 ],
 "metadata": {
  "kernelspec": {
   "display_name": "Python 3",
   "language": "python",
   "name": "python3"
  },
  "language_info": {
   "codemirror_mode": {
    "name": "ipython",
    "version": 3
   },
   "file_extension": ".py",
   "mimetype": "text/x-python",
   "name": "python",
   "nbconvert_exporter": "python",
   "pygments_lexer": "ipython3",
   "version": "3.7.6"
  }
 },
 "nbformat": 4,
 "nbformat_minor": 4
}
