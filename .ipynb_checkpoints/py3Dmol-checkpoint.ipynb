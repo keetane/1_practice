{
 "cells": [
  {
   "cell_type": "code",
   "execution_count": 1,
   "metadata": {
    "scrolled": true
   },
   "outputs": [],
   "source": [
    "from rdkit.Chem.Draw import IPythonConsole\n",
    "import py3Dmol"
   ]
  },
  {
   "cell_type": "code",
   "execution_count": 3,
   "metadata": {},
   "outputs": [
    {
     "data": {
      "application/3dmoljs_load.v0": "<div id=\"3dmolviewer_1599483591254263\"  style=\"position: relative; width: 680px; height: 250px\">\n        <p id=\"3dmolwarning_1599483591254263\" style=\"background-color:#ffcccc;color:black\">You appear to be running in JupyterLab (or JavaScript failed to load for some other reason).  You need to install the 3dmol extension: <br>\n        <tt>jupyter labextension install jupyterlab_3dmol</tt></p>\n        </div>\n<script>\n\nvar loadScriptAsync = function(uri){\n  return new Promise((resolve, reject) => {\n    var tag = document.createElement('script');\n    tag.src = uri;\n    tag.async = true;\n    tag.onload = () => {\n      resolve();\n    };\n  var firstScriptTag = document.getElementsByTagName('script')[0];\n  firstScriptTag.parentNode.insertBefore(tag, firstScriptTag);\n});\n};\n\nif(typeof $3Dmolpromise === 'undefined') {\n$3Dmolpromise = null;\n  $3Dmolpromise = loadScriptAsync('https://3dmol.org/build/3Dmol.js');\n}\n\nvar viewer_1599483591254263 = null;\nvar warn = document.getElementById(\"3dmolwarning_1599483591254263\");\nif(warn) {\n    warn.parentNode.removeChild(warn);\n}\n$3Dmolpromise.then(function() {\nvar viewergrid_1599483591254263 = null;\nviewergrid_1599483591254263 = $3Dmol.createViewerGrid($(\"#3dmolviewer_1599483591254263\"),{rows: 1, cols: 3, control_all: false},{backgroundColor:\"white\"});\nviewer_1599483591254263 = viewergrid_1599483591254263[0][0];\n$3Dmol.download(\"cid:5950\", viewergrid_1599483591254263[0][0], {}, function() {\n$3Dmol.download(\"cid:5950\", viewergrid_1599483591254263[0][1], {}, function() {\n$3Dmol.download(\"cid:5950\", viewergrid_1599483591254263[0][2], {}, function() {\n\tviewergrid_1599483591254263[0][0].setStyle({\"line\": {\"linewidth\": 5}});\n\tviewergrid_1599483591254263[0][1].setStyle({\"stick\": {}});\n\tviewergrid_1599483591254263[0][2].setStyle({\"sphere\": {}});\n\tviewergrid_1599483591254263[0][0].setBackgroundColor(\"#ebf4fb\");\n\tviewergrid_1599483591254263[0][1].setBackgroundColor(\"#f9f4fb\");\n\tviewergrid_1599483591254263[0][2].setBackgroundColor(\"#e1e1e1\");\nviewergrid_1599483591254263[0][2].render();\nviewergrid_1599483591254263[0][1].render();\nviewergrid_1599483591254263[0][0].render();\n})\n})\n})\n});\n</script>",
      "text/html": [
       "<div id=\"3dmolviewer_1599483591254263\"  style=\"position: relative; width: 680px; height: 250px\">\n",
       "        <p id=\"3dmolwarning_1599483591254263\" style=\"background-color:#ffcccc;color:black\">You appear to be running in JupyterLab (or JavaScript failed to load for some other reason).  You need to install the 3dmol extension: <br>\n",
       "        <tt>jupyter labextension install jupyterlab_3dmol</tt></p>\n",
       "        </div>\n",
       "<script>\n",
       "\n",
       "var loadScriptAsync = function(uri){\n",
       "  return new Promise((resolve, reject) => {\n",
       "    var tag = document.createElement('script');\n",
       "    tag.src = uri;\n",
       "    tag.async = true;\n",
       "    tag.onload = () => {\n",
       "      resolve();\n",
       "    };\n",
       "  var firstScriptTag = document.getElementsByTagName('script')[0];\n",
       "  firstScriptTag.parentNode.insertBefore(tag, firstScriptTag);\n",
       "});\n",
       "};\n",
       "\n",
       "if(typeof $3Dmolpromise === 'undefined') {\n",
       "$3Dmolpromise = null;\n",
       "  $3Dmolpromise = loadScriptAsync('https://3dmol.org/build/3Dmol.js');\n",
       "}\n",
       "\n",
       "var viewer_1599483591254263 = null;\n",
       "var warn = document.getElementById(\"3dmolwarning_1599483591254263\");\n",
       "if(warn) {\n",
       "    warn.parentNode.removeChild(warn);\n",
       "}\n",
       "$3Dmolpromise.then(function() {\n",
       "var viewergrid_1599483591254263 = null;\n",
       "viewergrid_1599483591254263 = $3Dmol.createViewerGrid($(\"#3dmolviewer_1599483591254263\"),{rows: 1, cols: 3, control_all: false},{backgroundColor:\"white\"});\n",
       "viewer_1599483591254263 = viewergrid_1599483591254263[0][0];\n",
       "$3Dmol.download(\"cid:5950\", viewergrid_1599483591254263[0][0], {}, function() {\n",
       "$3Dmol.download(\"cid:5950\", viewergrid_1599483591254263[0][1], {}, function() {\n",
       "$3Dmol.download(\"cid:5950\", viewergrid_1599483591254263[0][2], {}, function() {\n",
       "\tviewergrid_1599483591254263[0][0].setStyle({\"line\": {\"linewidth\": 5}});\n",
       "\tviewergrid_1599483591254263[0][1].setStyle({\"stick\": {}});\n",
       "\tviewergrid_1599483591254263[0][2].setStyle({\"sphere\": {}});\n",
       "\tviewergrid_1599483591254263[0][0].setBackgroundColor(\"#ebf4fb\");\n",
       "\tviewergrid_1599483591254263[0][1].setBackgroundColor(\"#f9f4fb\");\n",
       "\tviewergrid_1599483591254263[0][2].setBackgroundColor(\"#e1e1e1\");\n",
       "viewergrid_1599483591254263[0][2].render();\n",
       "viewergrid_1599483591254263[0][1].render();\n",
       "viewergrid_1599483591254263[0][0].render();\n",
       "})\n",
       "})\n",
       "})\n",
       "});\n",
       "</script>"
      ]
     },
     "metadata": {},
     "output_type": "display_data"
    },
    {
     "data": {
      "application/3dmoljs_load.v0": "<img id=\"img_1599483591254263\">\n            <script>\n            var png = viewer_1599483591254263.pngURI()\n            $('#img_1599483591254263').attr('src', png)\n            </script>",
      "text/html": [
       "<img id=\"img_1599483591254263\">\n",
       "            <script>\n",
       "            var png = viewer_1599483591254263.pngURI()\n",
       "            $('#img_1599483591254263').attr('src', png)\n",
       "            </script>"
      ]
     },
     "metadata": {},
     "output_type": "display_data"
    }
   ],
   "source": [
    "view = py3Dmol.view(width=680, height=250, query='cid:5950', viewergrid=(1,3), linked=False)\n",
    "view.setStyle({'line': {'linewidth': 5}}, viewer=(0,0))\n",
    "view.setStyle({'stick': {}}, viewer=(0,1))\n",
    "view.setStyle({'sphere': {}}, viewer=(0,2))\n",
    "view.setBackgroundColor('#ebf4fb', viewer=(0,0))\n",
    "view.setBackgroundColor('#f9f4fb', viewer=(0,1))\n",
    "view.setBackgroundColor('#e1e1e1', viewer=(0,2))\n",
    "view.show()\n",
    "view.png()"
   ]
  },
  {
   "cell_type": "code",
   "execution_count": null,
   "metadata": {},
   "outputs": [],
   "source": []
  }
 ],
 "metadata": {
  "kernelspec": {
   "display_name": "Python 3",
   "language": "python",
   "name": "python3"
  },
  "language_info": {
   "codemirror_mode": {
    "name": "ipython",
    "version": 3
   },
   "file_extension": ".py",
   "mimetype": "text/x-python",
   "name": "python",
   "nbconvert_exporter": "python",
   "pygments_lexer": "ipython3",
   "version": "3.7.6"
  }
 },
 "nbformat": 4,
 "nbformat_minor": 4
}
