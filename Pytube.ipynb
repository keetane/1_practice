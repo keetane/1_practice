{
 "cells": [
  {
   "cell_type": "code",
   "execution_count": 2,
   "metadata": {},
   "outputs": [],
   "source": [
    "from pytube import YouTube\n",
    "import os\n",
    "import glob"
   ]
  },
  {
   "cell_type": "code",
   "execution_count": 3,
   "metadata": {},
   "outputs": [
    {
     "name": "stdin",
     "output_type": "stream",
     "text": [
      "Enter the YouTube URL :  https://www.youtube.com/watch?v=cnp1u6kRgOA\n"
     ]
    },
    {
     "name": "stdout",
     "output_type": "stream",
     "text": [
      "now downloading...\n"
     ]
    }
   ],
   "source": [
    "url = input(\"Enter the YouTube URL : \")\n",
    "print(\"now downloading...\")"
   ]
  },
  {
   "cell_type": "code",
   "execution_count": 4,
   "metadata": {},
   "outputs": [
    {
     "data": {
      "text/plain": [
       "'/Users/keetane/Downloads/YouTube/music/M1 Neo Japanesque Medley  Happy Saturday Night_PIANO CRAZE Next Next step! Tour.mp4'"
      ]
     },
     "execution_count": 4,
     "metadata": {},
     "output_type": "execute_result"
    }
   ],
   "source": [
    "YouTube(url).streams.get_highest_resolution().download('/Users/keetane/Downloads/YouTube/movie')\n",
    "YouTube(url).streams.get_audio_only().download('/Users/keetane/Downloads/YouTube/music')"
   ]
  },
  {
   "cell_type": "code",
   "execution_count": 6,
   "metadata": {},
   "outputs": [
    {
     "name": "stdout",
     "output_type": "stream",
     "text": [
      "Downloaded file name is \n",
      "/Users/keetane/Downloads/YouTube/music/M1 Neo Japanesque Medley  Happy Saturday Night_PIANO CRAZE Next Next step! Tour.mp4\n"
     ]
    }
   ],
   "source": [
    "for name in glob.glob('/Users/keetane/Downloads/YouTube/music/*.mp4'):\n",
    "    print('Downloaded file name is \\n' + name)"
   ]
  },
  {
   "cell_type": "code",
   "execution_count": 7,
   "metadata": {},
   "outputs": [
    {
     "data": {
      "text/plain": [
       "'/Users/keetane/Downloads/YouTube/music/M1 Neo Japanesque Medley  Happy Saturday Night_PIANO CRAZE Next Next step! Tour.mp3'"
      ]
     },
     "execution_count": 7,
     "metadata": {},
     "output_type": "execute_result"
    }
   ],
   "source": [
    "audioname = name.replace('.mp4', '.mp3')\n",
    "audioname"
   ]
  },
  {
   "cell_type": "code",
   "execution_count": 8,
   "metadata": {},
   "outputs": [],
   "source": [
    "os.rename(name, audioname)"
   ]
  },
  {
   "cell_type": "code",
   "execution_count": 9,
   "metadata": {},
   "outputs": [
    {
     "name": "stdout",
     "output_type": "stream",
     "text": [
      "fertig\n"
     ]
    }
   ],
   "source": [
    "print(\"fertig\")"
   ]
  },
  {
   "cell_type": "code",
   "execution_count": null,
   "metadata": {},
   "outputs": [],
   "source": []
  }
 ],
 "metadata": {
  "kernelspec": {
   "display_name": "Python 3",
   "language": "python",
   "name": "python3"
  },
  "language_info": {
   "codemirror_mode": {
    "name": "ipython",
    "version": 3
   },
   "file_extension": ".py",
   "mimetype": "text/x-python",
   "name": "python",
   "nbconvert_exporter": "python",
   "pygments_lexer": "ipython3",
   "version": "3.7.6"
  }
 },
 "nbformat": 4,
 "nbformat_minor": 4
}
