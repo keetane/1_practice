{
 "cells": [
  {
   "cell_type": "code",
   "execution_count": 91,
   "metadata": {},
   "outputs": [],
   "source": [
    "from pytube import YouTube\n",
    " \n",
    "url = input(\"Enter the YouTube URL : \")\n",
    "YouTube(url).streams.get_highest_resolution().download()\n",
    "\n",
    "t = YouTube(url).title\n",
    "title = t.replace('|', '')\n",
    "Title = title.replace(' ', '')\n",
    "print(Title)\n",
    "\n",
    "import os\n",
    "import sys\n",
    "\n",
    "abs = '/Users/keetane/Documents/code/'\n",
    "oldpath = abs + title + '.mp4'\n",
    "newpath = abs + Title + '.mp4' \n",
    "print(oldpath)\n",
    "print(newpath)\n",
    "os.rename(oldpath, newpath)\n",
    "\n",
    "mp3 = abs + Title + '.mp3'\n",
    "print(mp3)\n",
    "\n",
    "!ffmpeg -i newpath mp3"
   ]
  },
  {
   "cell_type": "code",
   "execution_count": null,
   "metadata": {},
   "outputs": [],
   "source": []
  }
 ],
 "metadata": {
  "kernelspec": {
   "display_name": "Python 3",
   "language": "python",
   "name": "python3"
  },
  "language_info": {
   "codemirror_mode": {
    "name": "ipython",
    "version": 3
   },
   "file_extension": ".py",
   "mimetype": "text/x-python",
   "name": "python",
   "nbconvert_exporter": "python",
   "pygments_lexer": "ipython3",
   "version": "3.7.6"
  }
 },
 "nbformat": 4,
 "nbformat_minor": 4
}
