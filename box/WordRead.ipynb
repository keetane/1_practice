{
 "cells": [
  {
   "cell_type": "code",
   "execution_count": 1,
   "metadata": {},
   "outputs": [
    {
     "name": "stdout",
     "output_type": "stream",
     "text": [
      "hellow word 1 page.add text\n",
      "\n",
      "\n",
      "Hello Word 2 page.\n",
      "Hello Word 3 page?\n"
     ]
    }
   ],
   "source": [
    "#!/usr/bin/env python\n",
    "\n",
    "from docx import Document\n",
    "\n",
    "# ファイル名\n",
    "word_read_file_name = \"word.docx\"\n",
    "\n",
    "# ドキュメントオブジェクト作成\n",
    "# <class 'docx.document.Document'>\n",
    "document = Document(word_read_file_name)\n",
    "\n",
    "# データの表示\n",
    "for i in document.paragraphs:\n",
    "  print(i.text)"
   ]
  },
  {
   "cell_type": "code",
   "execution_count": null,
   "metadata": {},
   "outputs": [],
   "source": []
  }
 ],
 "metadata": {
  "kernelspec": {
   "display_name": "Python 3",
   "language": "python",
   "name": "python3"
  },
  "language_info": {
   "codemirror_mode": {
    "name": "ipython",
    "version": 3
   },
   "file_extension": ".py",
   "mimetype": "text/x-python",
   "name": "python",
   "nbconvert_exporter": "python",
   "pygments_lexer": "ipython3",
   "version": "3.7.6"
  }
 },
 "nbformat": 4,
 "nbformat_minor": 4
}
