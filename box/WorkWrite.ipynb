{
 "cells": [
  {
   "cell_type": "code",
   "execution_count": 1,
   "metadata": {},
   "outputs": [],
   "source": [
    "#!/usr/bin/env python\n",
    "from docx import Document\n",
    "\n",
    "# file name\n",
    "word_write_file_name = \"word.docx\"\n",
    "\n",
    "# create document object\n",
    "# <class 'docx.document.Document'>\n",
    "document = Document()\n",
    "\n",
    "# write text\n",
    "document.add_paragraph(\"hellow word 1 page.\")\n",
    "document.paragraphs[0].add_run(\"add text\")\n",
    "\n",
    "# add new page\n",
    "document.add_page_break()\n",
    "\n",
    "# write text\n",
    "document.add_paragraph(\"Hello Word 2 page.\")\n",
    "document.add_paragraph(\"Hello Word 3 page?\")\n",
    "\n",
    "# write it into word file\n",
    "document.save(word_write_file_name)"
   ]
  },
  {
   "cell_type": "code",
   "execution_count": null,
   "metadata": {},
   "outputs": [],
   "source": []
  }
 ],
 "metadata": {
  "kernelspec": {
   "display_name": "Python 3",
   "language": "python",
   "name": "python3"
  },
  "language_info": {
   "codemirror_mode": {
    "name": "ipython",
    "version": 3
   },
   "file_extension": ".py",
   "mimetype": "text/x-python",
   "name": "python",
   "nbconvert_exporter": "python",
   "pygments_lexer": "ipython3",
   "version": "3.7.6"
  }
 },
 "nbformat": 4,
 "nbformat_minor": 4
}
