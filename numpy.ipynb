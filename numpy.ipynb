{
 "cells": [
  {
   "cell_type": "code",
   "execution_count": 4,
   "metadata": {},
   "outputs": [
    {
     "data": {
      "text/plain": [
       "'/opt/anaconda3/lib/python3.7/site-packages/numpy/__init__.py'"
      ]
     },
     "execution_count": 4,
     "metadata": {},
     "output_type": "execute_result"
    }
   ],
   "source": [
    "import numpy as np\n",
    "np.__file__"
   ]
  },
  {
   "cell_type": "code",
   "execution_count": 9,
   "metadata": {},
   "outputs": [
    {
     "data": {
      "text/plain": [
       "[1, 2, 3]"
      ]
     },
     "execution_count": 9,
     "metadata": {},
     "output_type": "execute_result"
    }
   ],
   "source": [
    "python_list = [1, 2, 3]\n",
    "python_list"
   ]
  },
  {
   "cell_type": "code",
   "execution_count": 10,
   "metadata": {},
   "outputs": [
    {
     "data": {
      "text/plain": [
       "array([1, 2, 3])"
      ]
     },
     "execution_count": 10,
     "metadata": {},
     "output_type": "execute_result"
    }
   ],
   "source": [
    "np_list = np.array([1, 2, 3])\n",
    "np_list"
   ]
  },
  {
   "cell_type": "code",
   "execution_count": 11,
   "metadata": {},
   "outputs": [
    {
     "data": {
      "text/plain": [
       "[[1, 2, 3], [1, 2, 3], [1, 2, 3]]"
      ]
     },
     "execution_count": 11,
     "metadata": {},
     "output_type": "execute_result"
    }
   ],
   "source": [
    "python_list = [[1, 2, 3], [1, 2, 3], [1, 2, 3]]\n",
    "python_list"
   ]
  },
  {
   "cell_type": "code",
   "execution_count": 12,
   "metadata": {},
   "outputs": [
    {
     "data": {
      "text/plain": [
       "array([[1, 2, 3],\n",
       "       [1, 2, 3],\n",
       "       [1, 2, 3]])"
      ]
     },
     "execution_count": 12,
     "metadata": {},
     "output_type": "execute_result"
    }
   ],
   "source": [
    "np_list = np.array([[1, 2, 3], [1, 2, 3], [1, 2, 3]])\n",
    "np_list"
   ]
  },
  {
   "cell_type": "code",
   "execution_count": 13,
   "metadata": {},
   "outputs": [],
   "source": [
    "array1 = np.array([[1, 2, 3], [4, 5, 6], [7, 8, 9]])\n",
    "array2 = np.array([[1, 2, 3], [4, 5, 6], [7, 8, 9]])"
   ]
  },
  {
   "cell_type": "code",
   "execution_count": 14,
   "metadata": {},
   "outputs": [
    {
     "data": {
      "text/plain": [
       "array([[ 2,  4,  6],\n",
       "       [ 8, 10, 12],\n",
       "       [14, 16, 18]])"
      ]
     },
     "execution_count": 14,
     "metadata": {},
     "output_type": "execute_result"
    }
   ],
   "source": [
    "array1 + array2"
   ]
  },
  {
   "cell_type": "code",
   "execution_count": 15,
   "metadata": {},
   "outputs": [
    {
     "data": {
      "text/plain": [
       "array([[ 1,  4,  9],\n",
       "       [16, 25, 36],\n",
       "       [49, 64, 81]])"
      ]
     },
     "execution_count": 15,
     "metadata": {},
     "output_type": "execute_result"
    }
   ],
   "source": [
    "array1 * array2"
   ]
  },
  {
   "cell_type": "code",
   "execution_count": 16,
   "metadata": {},
   "outputs": [
    {
     "data": {
      "text/plain": [
       "array([[0, 0, 0],\n",
       "       [0, 0, 0],\n",
       "       [0, 0, 0]])"
      ]
     },
     "execution_count": 16,
     "metadata": {},
     "output_type": "execute_result"
    }
   ],
   "source": [
    "array1 - array2"
   ]
  },
  {
   "cell_type": "code",
   "execution_count": 17,
   "metadata": {},
   "outputs": [
    {
     "data": {
      "text/plain": [
       "array([[1., 1., 1.],\n",
       "       [1., 1., 1.],\n",
       "       [1., 1., 1.]])"
      ]
     },
     "execution_count": 17,
     "metadata": {},
     "output_type": "execute_result"
    }
   ],
   "source": [
    "array1 / array2"
   ]
  },
  {
   "cell_type": "code",
   "execution_count": 18,
   "metadata": {},
   "outputs": [],
   "source": [
    "array3 = np.array([1, 2, 3])\n",
    "array4 = np.array([[1, 2, 3], [4, 5, 6], [7, 8, 9]])"
   ]
  },
  {
   "cell_type": "code",
   "execution_count": 19,
   "metadata": {},
   "outputs": [
    {
     "data": {
      "text/plain": [
       "array([[ 2,  4,  6],\n",
       "       [ 5,  7,  9],\n",
       "       [ 8, 10, 12]])"
      ]
     },
     "execution_count": 19,
     "metadata": {},
     "output_type": "execute_result"
    }
   ],
   "source": [
    "array3 + array4"
   ]
  },
  {
   "cell_type": "code",
   "execution_count": 20,
   "metadata": {},
   "outputs": [
    {
     "data": {
      "text/plain": [
       "array([[ 1,  4,  9],\n",
       "       [ 4, 10, 18],\n",
       "       [ 7, 16, 27]])"
      ]
     },
     "execution_count": 20,
     "metadata": {},
     "output_type": "execute_result"
    }
   ],
   "source": [
    "array3 * array4"
   ]
  },
  {
   "cell_type": "code",
   "execution_count": 21,
   "metadata": {},
   "outputs": [
    {
     "data": {
      "text/plain": [
       "array([[ 0,  0,  0],\n",
       "       [-3, -3, -3],\n",
       "       [-6, -6, -6]])"
      ]
     },
     "execution_count": 21,
     "metadata": {},
     "output_type": "execute_result"
    }
   ],
   "source": [
    "array3 - array4"
   ]
  },
  {
   "cell_type": "code",
   "execution_count": 22,
   "metadata": {},
   "outputs": [
    {
     "data": {
      "text/plain": [
       "array([[1.        , 1.        , 1.        ],\n",
       "       [0.25      , 0.4       , 0.5       ],\n",
       "       [0.14285714, 0.25      , 0.33333333]])"
      ]
     },
     "execution_count": 22,
     "metadata": {},
     "output_type": "execute_result"
    }
   ],
   "source": [
    "array3 / array4"
   ]
  },
  {
   "cell_type": "code",
   "execution_count": 23,
   "metadata": {},
   "outputs": [],
   "source": [
    "array5 = np.array([1, 2, 3, 4])\n",
    "array6 = np.array([[1, 2, 3], [4, 5, 6], [7, 8, 9]])"
   ]
  },
  {
   "cell_type": "code",
   "execution_count": 24,
   "metadata": {},
   "outputs": [
    {
     "ename": "NameError",
     "evalue": "name 'arra5' is not defined",
     "output_type": "error",
     "traceback": [
      "\u001b[0;31m---------------------------------------------------------------------------\u001b[0m",
      "\u001b[0;31mNameError\u001b[0m                                 Traceback (most recent call last)",
      "\u001b[0;32m<ipython-input-24-2717a973781d>\u001b[0m in \u001b[0;36m<module>\u001b[0;34m\u001b[0m\n\u001b[0;32m----> 1\u001b[0;31m \u001b[0marra5\u001b[0m \u001b[0;34m+\u001b[0m \u001b[0marray6\u001b[0m\u001b[0;34m\u001b[0m\u001b[0;34m\u001b[0m\u001b[0m\n\u001b[0m",
      "\u001b[0;31mNameError\u001b[0m: name 'arra5' is not defined"
     ]
    }
   ],
   "source": [
    "arra5 + array6"
   ]
  },
  {
   "cell_type": "markdown",
   "metadata": {},
   "source": [
    "### IndexingとSlicing"
   ]
  },
  {
   "cell_type": "code",
   "execution_count": 25,
   "metadata": {},
   "outputs": [
    {
     "name": "stdout",
     "output_type": "stream",
     "text": [
      "[[1 2]\n",
      " [3 4]\n",
      " [5 6]]\n"
     ]
    }
   ],
   "source": [
    "ndarray = np.array(([1, 2], [3, 4], [5, 6]))\n",
    "print(ndarray)"
   ]
  },
  {
   "cell_type": "code",
   "execution_count": 26,
   "metadata": {},
   "outputs": [
    {
     "name": "stdout",
     "output_type": "stream",
     "text": [
      "3\n",
      "3\n"
     ]
    }
   ],
   "source": [
    "print(ndarray[1][0])\n",
    "print(ndarray[1, 0])"
   ]
  },
  {
   "cell_type": "code",
   "execution_count": 27,
   "metadata": {},
   "outputs": [
    {
     "name": "stdout",
     "output_type": "stream",
     "text": [
      "[2 3 4 5 6]\n",
      "[2 4 6]\n"
     ]
    }
   ],
   "source": [
    "array = np.array([1, 2, 3, 4, 5, 6, 7])\n",
    "print(array[1:6])\n",
    "print(array[1:6:2])"
   ]
  },
  {
   "cell_type": "markdown",
   "metadata": {},
   "source": [
    "### [N:M:L]とするとL-1飛びでslicingできます．"
   ]
  },
  {
   "cell_type": "code",
   "execution_count": 28,
   "metadata": {},
   "outputs": [
    {
     "name": "stdout",
     "output_type": "stream",
     "text": [
      "[1 2 3]\n"
     ]
    }
   ],
   "source": [
    "ndarray = np.array([1, 2, 3])\n",
    "print(ndarray)"
   ]
  },
  {
   "cell_type": "code",
   "execution_count": 33,
   "metadata": {},
   "outputs": [
    {
     "data": {
      "text/plain": [
       "array([0, 2, 4])"
      ]
     },
     "execution_count": 33,
     "metadata": {},
     "output_type": "execute_result"
    }
   ],
   "source": [
    "np.arange(0, 5, 2)"
   ]
  },
  {
   "cell_type": "markdown",
   "metadata": {},
   "source": [
    "### np.arange(start, stop(, step))\n",
    "### startからstopまでをstepおきに作成"
   ]
  },
  {
   "cell_type": "code",
   "execution_count": 34,
   "metadata": {},
   "outputs": [
    {
     "data": {
      "text/plain": [
       "array([0, 1, 2, 3, 4])"
      ]
     },
     "execution_count": 34,
     "metadata": {},
     "output_type": "execute_result"
    }
   ],
   "source": [
    "np.arange(5)"
   ]
  },
  {
   "cell_type": "code",
   "execution_count": 35,
   "metadata": {},
   "outputs": [
    {
     "data": {
      "text/plain": [
       "array([0, 1, 2, 3, 4])"
      ]
     },
     "execution_count": 35,
     "metadata": {},
     "output_type": "execute_result"
    }
   ],
   "source": [
    "np.arange(0, 5)"
   ]
  },
  {
   "cell_type": "code",
   "execution_count": 36,
   "metadata": {},
   "outputs": [
    {
     "data": {
      "text/plain": [
       "array([-5, -4, -3, -2, -1,  0,  1,  2,  3,  4])"
      ]
     },
     "execution_count": 36,
     "metadata": {},
     "output_type": "execute_result"
    }
   ],
   "source": [
    "np.arange(-5, 5)"
   ]
  },
  {
   "cell_type": "code",
   "execution_count": 81,
   "metadata": {},
   "outputs": [
    {
     "data": {
      "text/plain": [
       "array([1])"
      ]
     },
     "execution_count": 81,
     "metadata": {},
     "output_type": "execute_result"
    }
   ],
   "source": [
    "np.arange(1, 2, 20)"
   ]
  },
  {
   "cell_type": "code",
   "execution_count": 83,
   "metadata": {},
   "outputs": [
    {
     "data": {
      "text/plain": [
       "array([100, 120, 140, 160, 180])"
      ]
     },
     "execution_count": 83,
     "metadata": {},
     "output_type": "execute_result"
    }
   ],
   "source": [
    "np.arange(100, 200, 20)"
   ]
  },
  {
   "cell_type": "code",
   "execution_count": 80,
   "metadata": {},
   "outputs": [
    {
     "data": {
      "text/plain": [
       "array([1.        , 1.05263158, 1.10526316, 1.15789474, 1.21052632,\n",
       "       1.26315789, 1.31578947, 1.36842105, 1.42105263, 1.47368421,\n",
       "       1.52631579, 1.57894737, 1.63157895, 1.68421053, 1.73684211,\n",
       "       1.78947368, 1.84210526, 1.89473684, 1.94736842, 2.        ])"
      ]
     },
     "execution_count": 80,
     "metadata": {},
     "output_type": "execute_result"
    }
   ],
   "source": [
    "np.linspace(1, 2, 20)"
   ]
  },
  {
   "cell_type": "markdown",
   "metadata": {},
   "source": [
    "### np.linspace(start, stop, num=50)\n",
    "### np.arange()がstepだったのに対し，np.linspace()は要素の数(num)を指定します．startからstopまでの値をnum等分した値がarrayで返されます．stepを指定したい時はnp.arange()で，stepはなんでもいいが特定の数だけほしいという場合はnp.linspace()を使いましょう．stopの値を含むことに注意しましょう．"
   ]
  },
  {
   "cell_type": "code",
   "execution_count": 45,
   "metadata": {},
   "outputs": [
    {
     "name": "stdout",
     "output_type": "stream",
     "text": [
      "original array's id is 4728582512\n",
      "copied array's id is 4728626592\n",
      "original array:\n",
      " [100 100 100 100 100]\n",
      "copied array:\n",
      " [0 1 2 3 4]\n"
     ]
    }
   ],
   "source": [
    "ndarray = np.arange(0, 5)\n",
    "ndarray_copy = ndarray.copy()\n",
    "print(\"original array's id is {}\".format(id(ndarray)))\n",
    "print(\"copied array's id is {}\".format(id(ndarray_copy)))\n",
    "\n",
    "#changing original array\n",
    "ndarray[:] = 100\n",
    "print('original array:\\n', ndarray)\n",
    "print('copied array:\\n', ndarray_copy)"
   ]
  },
  {
   "cell_type": "code",
   "execution_count": 43,
   "metadata": {},
   "outputs": [
    {
     "name": "stdout",
     "output_type": "stream",
     "text": [
      "4556098032\n",
      "4556098032\n"
     ]
    }
   ],
   "source": [
    "def myfunc(n):\n",
    "    print(id(n))\n",
    "\n",
    "a = 'test'\n",
    "print(id(a))\n",
    "myfunc(a)"
   ]
  },
  {
   "cell_type": "code",
   "execution_count": 53,
   "metadata": {},
   "outputs": [],
   "source": [
    "def add_world(hello):\n",
    "    hello += ' world'\n",
    "    return hello"
   ]
  },
  {
   "cell_type": "code",
   "execution_count": 72,
   "metadata": {},
   "outputs": [
    {
     "name": "stdout",
     "output_type": "stream",
     "text": [
      "output_str: hello world\n",
      "outpur_list: ['h', 'e', 'l', 'l', 'o', ' ', 'w', 'o', 'r', 'l', 'd']\n",
      "outpur_array: [array([0, 1, 2, 3, 4]), ' ', 'w', 'o', 'r', 'l', 'd']\n",
      "h_str: hello\n",
      "h_list: ['h', 'e', 'l', 'l', 'o', ' ', 'w', 'o', 'r', 'l', 'd']\n"
     ]
    }
   ],
   "source": [
    "h_str = 'hello'\n",
    "h_list = ['h', 'e', 'l', 'l', 'o']\n",
    "h_array = [ndarray]\n",
    "output_str = add_world(h_str)\n",
    "output_list = add_world(h_list)\n",
    "output_array = add_world(h_array)\n",
    "\n",
    "print('output_str: {}'.format(output_str))\n",
    "print('outpur_list: {}'.format(output_list))\n",
    "print('outpur_array: {}'.format(output_array))\n",
    "\n",
    "\n",
    "print('h_str: {}'.format(h_str))\n",
    "print('h_list: {}'.format(h_list))"
   ]
  },
  {
   "cell_type": "code",
   "execution_count": 78,
   "metadata": {},
   "outputs": [
    {
     "name": "stdout",
     "output_type": "stream",
     "text": [
      "original array_1:\n",
      " [100   1   2   3]\n",
      "original array_2:\n",
      " [0 1 2 3]\n"
     ]
    }
   ],
   "source": [
    "def change_hundred(array):\n",
    "    \n",
    "    array[0] = 100\n",
    "    return array\n",
    "\n",
    "def change_hundred_copy(array):\n",
    "    \n",
    "    array_copy = array.copy()\n",
    "    array_copy[0] = 100\n",
    "    return array_copy\n",
    "\n",
    "array_1 = np.arange(0, 4)\n",
    "array_2 = np.arange(0, 4)\n",
    "\n",
    "output_array = change_hundred(array_1)\n",
    "output_array_copy = change_hundred_copy(array_2)\n",
    "\n",
    "print('original array_1:\\n', array_1)\n",
    "print('original array_2:\\n', array_2)"
   ]
  },
  {
   "cell_type": "code",
   "execution_count": 86,
   "metadata": {},
   "outputs": [
    {
     "name": "stdout",
     "output_type": "stream",
     "text": [
      "[[[0. 0. 0. 0. 0.]\n",
      "  [0. 0. 0. 0. 0.]\n",
      "  [0. 0. 0. 0. 0.]]\n",
      "\n",
      " [[0. 0. 0. 0. 0.]\n",
      "  [0. 0. 0. 0. 0.]\n",
      "  [0. 0. 0. 0. 0.]]]\n"
     ]
    }
   ],
   "source": [
    "shape = (2, 3, 5)\n",
    "zeros = np.zeros(shape)\n",
    "print(zeros)"
   ]
  },
  {
   "cell_type": "code",
   "execution_count": 94,
   "metadata": {},
   "outputs": [
    {
     "name": "stdout",
     "output_type": "stream",
     "text": [
      "[[[1. 1. 1. 1. 1.]\n",
      "  [1. 1. 1. 1. 1.]\n",
      "  [1. 1. 1. 1. 1.]]\n",
      "\n",
      " [[1. 1. 1. 1. 1.]\n",
      "  [1. 1. 1. 1. 1.]\n",
      "  [1. 1. 1. 1. 1.]]]\n",
      "[]\n",
      "[1. 1. 1. 1.]\n",
      "['1' '1' '1' '1']\n",
      "[1 1 1 1]\n"
     ]
    }
   ],
   "source": [
    "shape = (2, 3, 5)\n",
    "ones_array_1 = np.ones(shape)\n",
    "ones_array_2 = np.ones(0)\n",
    "ones_array_3 = np.ones(4)\n",
    "ones_array_4 = np.ones(4, str)\n",
    "ones_array_5 = np.ones(4, list)\n",
    "\n",
    "\n",
    "print(ones_array_1)\n",
    "print(ones_array_2)\n",
    "print(ones_array_3)\n",
    "print(ones_array_4)\n",
    "print(ones_array_5)\n"
   ]
  },
  {
   "cell_type": "code",
   "execution_count": 95,
   "metadata": {},
   "outputs": [
    {
     "data": {
      "text/plain": [
       "array([[1., 0., 0.],\n",
       "       [0., 1., 0.],\n",
       "       [0., 0., 1.]])"
      ]
     },
     "execution_count": 95,
     "metadata": {},
     "output_type": "execute_result"
    }
   ],
   "source": [
    "np.eye(3)"
   ]
  },
  {
   "cell_type": "code",
   "execution_count": 97,
   "metadata": {},
   "outputs": [
    {
     "data": {
      "text/plain": [
       "array([[1., 0., 0., 0., 0.],\n",
       "       [0., 1., 0., 0., 0.],\n",
       "       [0., 0., 1., 0., 0.]])"
      ]
     },
     "execution_count": 97,
     "metadata": {},
     "output_type": "execute_result"
    }
   ],
   "source": [
    "np.eye(3, 5)"
   ]
  },
  {
   "cell_type": "code",
   "execution_count": 104,
   "metadata": {},
   "outputs": [
    {
     "name": "stdout",
     "output_type": "stream",
     "text": [
      "random_float: 0.4445561691277998\n",
      "\n",
      "random_1d: [0.14197593 0.09119996 0.50833608]\n",
      "\n",
      "random_2d: [[0.02371564 0.37267115 0.00936001 0.76813128]\n",
      " [0.87092066 0.67081241 0.29320597 0.57474059]\n",
      " [0.4039348  0.28445985 0.4956279  0.79122696]]\n",
      "\n"
     ]
    }
   ],
   "source": [
    "random_float = np.random.rand()\n",
    "random_1d = np.random.rand(3)\n",
    "random_2d = np.random.rand(3, 4)\n",
    "\n",
    "print('random_float: {}\\n'.format(random_float))\n",
    "print('random_1d: {}\\n'.format(random_1d))\n",
    "print('random_2d: {}\\n'.format(random_2d))"
   ]
  },
  {
   "cell_type": "code",
   "execution_count": 107,
   "metadata": {},
   "outputs": [
    {
     "name": "stdout",
     "output_type": "stream",
     "text": [
      "random_float: 0.4808453862578638\n",
      "\n",
      "random_1d: [0.05191936 1.22786779 0.43038419]\n",
      "\n",
      "random_2d: [[-0.68111082 -2.75083478 -0.19166033  0.4792586 ]\n",
      " [-0.21835871  1.15659919 -0.90862682  0.09156841]\n",
      " [-1.37827444 -1.20382964 -2.01804177  0.98607667]]\n",
      "\n"
     ]
    }
   ],
   "source": [
    "random_float = np.random.randn()\n",
    "random_1d = np.random.randn(3)\n",
    "random_2d = np.random.randn(3, 4)\n",
    "\n",
    "print('random_float: {}\\n'.format(random_float))\n",
    "print('random_1d: {}\\n'.format(random_1d))\n",
    "print('random_2d: {}\\n'.format(random_2d))"
   ]
  },
  {
   "cell_type": "code",
   "execution_count": 108,
   "metadata": {},
   "outputs": [
    {
     "data": {
      "text/plain": [
       "array([[[32, 13, 14],\n",
       "        [11, 24, 26],\n",
       "        [38, 11, 38],\n",
       "        [31, 36, 45]],\n",
       "\n",
       "       [[28, 41, 26],\n",
       "        [33, 30, 44],\n",
       "        [16, 36, 24],\n",
       "        [41, 26, 26]]])"
      ]
     },
     "execution_count": 108,
     "metadata": {},
     "output_type": "execute_result"
    }
   ],
   "source": [
    "np.random.randint(10, 50, size=(2, 4, 3))"
   ]
  },
  {
   "cell_type": "code",
   "execution_count": 117,
   "metadata": {},
   "outputs": [
    {
     "data": {
      "text/plain": [
       "31"
      ]
     },
     "execution_count": 117,
     "metadata": {},
     "output_type": "execute_result"
    }
   ],
   "source": [
    "np.random.randint(10, 50)"
   ]
  },
  {
   "cell_type": "code",
   "execution_count": 123,
   "metadata": {},
   "outputs": [
    {
     "data": {
      "text/plain": [
       "array([[25, 29],\n",
       "       [15, 45],\n",
       "       [12, 33],\n",
       "       [15, 26],\n",
       "       [11, 42]])"
      ]
     },
     "execution_count": 123,
     "metadata": {},
     "output_type": "execute_result"
    }
   ],
   "source": [
    "np.random.randint(10, 50, size=(5, 2))"
   ]
  },
  {
   "cell_type": "code",
   "execution_count": 124,
   "metadata": {},
   "outputs": [
    {
     "data": {
      "text/plain": [
       "array([[[[45, 18, 24, 43],\n",
       "         [16, 49, 32, 13],\n",
       "         [29, 24, 44, 42]],\n",
       "\n",
       "        [[41, 16, 27, 22],\n",
       "         [24, 24, 33, 21],\n",
       "         [39, 46, 44, 42]]],\n",
       "\n",
       "\n",
       "       [[[18, 20, 10, 40],\n",
       "         [48, 44, 14, 37],\n",
       "         [27, 25, 34, 11]],\n",
       "\n",
       "        [[11, 10, 20, 33],\n",
       "         [31, 26, 33, 42],\n",
       "         [38, 34, 49, 46]]],\n",
       "\n",
       "\n",
       "       [[[13, 44, 27, 41],\n",
       "         [40, 40, 25, 30],\n",
       "         [10, 26, 45, 22]],\n",
       "\n",
       "        [[26, 35, 35, 29],\n",
       "         [33, 44, 19, 16],\n",
       "         [12, 48, 38, 23]]],\n",
       "\n",
       "\n",
       "       [[[17, 37, 21, 23],\n",
       "         [23, 44, 41, 11],\n",
       "         [38, 31, 13, 23]],\n",
       "\n",
       "        [[18, 16, 23, 22],\n",
       "         [43, 12, 41, 10],\n",
       "         [12, 14, 14, 32]]],\n",
       "\n",
       "\n",
       "       [[[22, 11, 48, 41],\n",
       "         [27, 27, 41, 25],\n",
       "         [23, 43, 16, 14]],\n",
       "\n",
       "        [[44, 38, 45, 45],\n",
       "         [43, 16, 17, 12],\n",
       "         [21, 18, 25, 13]]]])"
      ]
     },
     "execution_count": 124,
     "metadata": {},
     "output_type": "execute_result"
    }
   ],
   "source": [
    "np.random.randint(10, 50, size=(5, 2, 3, 4))"
   ]
  },
  {
   "cell_type": "markdown",
   "metadata": {},
   "source": [
    "### array sizeは()内左から大きい次元要素を構成する。"
   ]
  },
  {
   "cell_type": "code",
   "execution_count": 125,
   "metadata": {
    "scrolled": true
   },
   "outputs": [
    {
     "name": "stdout",
     "output_type": "stream",
     "text": [
      "array:\n",
      "[0 1 2 3 4 5 6 7 8 9]\n",
      "reshaped array:\n",
      "[[0 1 2 3 4]\n",
      " [5 6 7 8 9]] \n",
      "reshaped array's is:\n",
      "(2, 5) \n",
      "original array is NOT changed:\n",
      "[0 1 2 3 4 5 6 7 8 9] \n"
     ]
    }
   ],
   "source": [
    "array = np.arange(0, 10)\n",
    "print('array:\\n{}'.format(array))\n",
    "new_shape = (2,5)\n",
    "reshaped_array = array.reshape(new_shape)\n",
    "print('reshaped array:\\n{} '.format(reshaped_array))\n",
    "print(\"reshaped array's is:\\n{} \".format(reshaped_array.shape)\n",
    "print('original array is NOT changed:\\n{} '.format(array))"
   ]
  },
  {
   "cell_type": "markdown",
   "metadata": {},
   "source": [
    "### 要素の統計量を求める"
   ]
  },
  {
   "cell_type": "code",
   "execution_count": 138,
   "metadata": {
    "scrolled": false
   },
   "outputs": [
    {
     "name": "stdout",
     "output_type": "stream",
     "text": [
      "[[-0.9606696  -0.48527364  0.76699555 -0.68894958 -0.21955458]\n",
      " [-0.59437136  1.54851914  0.0594528  -0.52617463  0.92606698]\n",
      " [-1.18213089 -0.60921807  1.85708625  0.30300804  1.27879178]\n",
      " [-0.98124631  0.31927197  0.38579873 -1.29155926  0.37956873]\n",
      " [-0.1617428  -0.81124379  1.26002191  1.41211518  1.14888685]]\n"
     ]
    }
   ],
   "source": [
    "normal_dist_mat = np.random.randn(5, 5)\n",
    "print(normal_dist_mat)"
   ]
  },
  {
   "cell_type": "code",
   "execution_count": 156,
   "metadata": {},
   "outputs": [
    {
     "name": "stdout",
     "output_type": "stream",
     "text": [
      "max is:\n",
      "aaa\n",
      "1.857086245784847\n",
      "1.857086245784847\n"
     ]
    }
   ],
   "source": [
    "print('max is:\\naaa')\n",
    "print(normal_dist_mat.max())\n",
    "print(np.max(normal_dist_mat))"
   ]
  },
  {
   "cell_type": "code",
   "execution_count": 140,
   "metadata": {},
   "outputs": [
    {
     "name": "stdout",
     "output_type": "stream",
     "text": [
      "argmax is\n",
      "12\n"
     ]
    }
   ],
   "source": [
    "#argmax\n",
    "print('argmax is')\n",
    "print(normal_dist_mat.argmax())"
   ]
  },
  {
   "cell_type": "code",
   "execution_count": 141,
   "metadata": {},
   "outputs": [
    {
     "data": {
      "text/plain": [
       "0.9260669764871232"
      ]
     },
     "execution_count": 141,
     "metadata": {},
     "output_type": "execute_result"
    }
   ],
   "source": [
    "normal_dist_mat.flatten()[9]"
   ]
  },
  {
   "cell_type": "code",
   "execution_count": 150,
   "metadata": {},
   "outputs": [
    {
     "name": "stdout",
     "output_type": "stream",
     "text": [
      "[[-0.9606696  -0.48527364  0.76699555 -0.68894958 -0.21955458]\n",
      " [-0.59437136  1.54851914  0.0594528  -0.52617463  0.92606698]\n",
      " [-1.18213089 -0.60921807  1.85708625  0.30300804  1.27879178]\n",
      " [-0.98124631  0.31927197  0.38579873 -1.29155926  0.37956873]\n",
      " [-0.1617428  -0.81124379  1.26002191  1.41211518  1.14888685]]\n",
      "12\n",
      "1.857086245784847\n",
      "0.7669955509459917\n"
     ]
    }
   ],
   "source": [
    "print(normal_dist_mat)\n",
    "print(normal_dist_mat.argmax())\n",
    "print(normal_dist_mat.flatten()[normal_dist_mat.argmax()])\n",
    "print(normal_dist_mat.flatten()[2])"
   ]
  },
  {
   "cell_type": "code",
   "execution_count": 152,
   "metadata": {},
   "outputs": [
    {
     "name": "stdout",
     "output_type": "stream",
     "text": [
      "min is\n",
      "-1.2915592597698151\n",
      "argmin is\n",
      "18\n"
     ]
    }
   ],
   "source": [
    "print('min is')\n",
    "print(normal_dist_mat.min())\n",
    "print('argmin is')\n",
    "print(normal_dist_mat.argmin())"
   ]
  },
  {
   "cell_type": "code",
   "execution_count": 153,
   "metadata": {},
   "outputs": [
    {
     "name": "stdout",
     "output_type": "stream",
     "text": [
      "mean is\n",
      "0.12533797582552192\n"
     ]
    }
   ],
   "source": [
    "print('mean is')\n",
    "print(normal_dist_mat.mean())"
   ]
  },
  {
   "cell_type": "code",
   "execution_count": 154,
   "metadata": {},
   "outputs": [
    {
     "name": "stdout",
     "output_type": "stream",
     "text": [
      "median is\n",
      "0.0594528031519188\n"
     ]
    }
   ],
   "source": [
    "print('median is')\n",
    "print(np.median(normal_dist_mat))"
   ]
  },
  {
   "cell_type": "code",
   "execution_count": 155,
   "metadata": {},
   "outputs": [
    {
     "name": "stdout",
     "output_type": "stream",
     "text": [
      "standard deviation is\n",
      "0.9235191230380596\n"
     ]
    }
   ],
   "source": [
    "print('standard deviation is')\n",
    "print(normal_dist_mat.std())"
   ]
  },
  {
   "cell_type": "code",
   "execution_count": 159,
   "metadata": {},
   "outputs": [
    {
     "name": "stdout",
     "output_type": "stream",
     "text": [
      "[[-0.9606696  -0.48527364  0.76699555 -0.68894958 -0.21955458]\n",
      " [-0.59437136  1.54851914  0.0594528  -0.52617463  0.92606698]\n",
      " [-1.18213089 -0.60921807  1.85708625  0.30300804  1.27879178]\n",
      " [-0.98124631  0.31927197  0.38579873 -1.29155926  0.37956873]\n",
      " [-0.1617428  -0.81124379  1.26002191  1.41211518  1.14888685]]\n",
      "axis=0> [-0.1617428   1.54851914  1.85708625  1.41211518  1.27879178]\n",
      "axis=0< [-1.18213089 -0.81124379  0.0594528  -1.29155926 -0.21955458]\n",
      "axis=1> [0.76699555 1.54851914 1.85708625 0.38579873 1.41211518]\n",
      "axis=1< [-0.9606696  -0.59437136 -1.18213089 -1.29155926 -0.81124379]\n"
     ]
    },
    {
     "data": {
      "text/plain": [
       "array([-0.9606696 , -0.59437136, -1.18213089, -1.29155926, -0.81124379])"
      ]
     },
     "execution_count": 159,
     "metadata": {},
     "output_type": "execute_result"
    }
   ],
   "source": [
    "print(normal_dist_mat)\n",
    "print('axis=0> {}'.format(normal_dist_mat.max(axis=0)))\n",
    "print('axis=0< {}'.format(normal_dist_mat.min(axis=0)))\n",
    "print('axis=1> {}'.format(normal_dist_mat.max(axis=1)))\n",
    "print('axis=1< {}'.format(normal_dist_mat.min(axis=1)))\n",
    "normal_dist_mat.min(axis=1)"
   ]
  },
  {
   "cell_type": "markdown",
   "metadata": {},
   "source": [
    "### また，特定の行，列での統計量を求めたい場合は引数axisを指定します．axis=0を指定すると各列の統計量，axis=1を指定すると各行の統計量を返します．このaxisの使い方は重要です．覚えておきましょう．\n",
    "### >上記の例では例えば、axis=0>だと各列の最大値が帰ってきている"
   ]
  },
  {
   "cell_type": "code",
   "execution_count": 161,
   "metadata": {},
   "outputs": [],
   "source": [
    "def axis0():\n",
    "    return normal_dist_mat.max(axis=0)"
   ]
  },
  {
   "cell_type": "code",
   "execution_count": 162,
   "metadata": {},
   "outputs": [
    {
     "data": {
      "text/plain": [
       "array([-0.1617428 ,  1.54851914,  1.85708625,  1.41211518,  1.27879178])"
      ]
     },
     "execution_count": 162,
     "metadata": {},
     "output_type": "execute_result"
    }
   ],
   "source": [
    "axis0()"
   ]
  },
  {
   "cell_type": "code",
   "execution_count": null,
   "metadata": {},
   "outputs": [],
   "source": []
  }
 ],
 "metadata": {
  "kernelspec": {
   "display_name": "Python 3",
   "language": "python",
   "name": "python3"
  },
  "language_info": {
   "codemirror_mode": {
    "name": "ipython",
    "version": 3
   },
   "file_extension": ".py",
   "mimetype": "text/x-python",
   "name": "python",
   "nbconvert_exporter": "python",
   "pygments_lexer": "ipython3",
   "version": "3.7.6"
  }
 },
 "nbformat": 4,
 "nbformat_minor": 4
}
